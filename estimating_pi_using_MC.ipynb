{
  "nbformat": 4,
  "nbformat_minor": 0,
  "metadata": {
    "colab": {
      "provenance": [],
      "authorship_tag": "ABX9TyNvhkolFSBlAbxcP/MLGYIU",
      "include_colab_link": true
    },
    "kernelspec": {
      "name": "python3",
      "display_name": "Python 3"
    },
    "language_info": {
      "name": "python"
    }
  },
  "cells": [
    {
      "cell_type": "markdown",
      "metadata": {
        "id": "view-in-github",
        "colab_type": "text"
      },
      "source": [
        "<a href=\"https://colab.research.google.com/github/dilinanp/computational-physics/blob/main/estimating_pi_using_MC.ipynb\" target=\"_parent\"><img src=\"https://colab.research.google.com/assets/colab-badge.svg\" alt=\"Open In Colab\"/></a>"
      ]
    },
    {
      "cell_type": "code",
      "execution_count": 1,
      "metadata": {
        "id": "SeRnOuh2rCjN"
      },
      "outputs": [],
      "source": [
        "import numpy as np\n",
        "import matplotlib.pyplot as plt"
      ]
    },
    {
      "cell_type": "markdown",
      "source": [
        "### Generate 100,000 random numbers uniformly distributed in the interval $[0, 1)$. Then, plot a histogram of the numbers."
      ],
      "metadata": {
        "id": "6_msPyUfi0_A"
      }
    },
    {
      "cell_type": "code",
      "source": [
        "rand_nums = np.random.rand(100000)\n",
        "\n",
        "plt.hist(rand_nums, bins=20, edgecolor='black')\n",
        "plt.xlabel('value')\n",
        "plt.ylabel('frequency')"
      ],
      "metadata": {
        "colab": {
          "base_uri": "https://localhost:8080/",
          "height": 467
        },
        "id": "Oh9DHz3ri31I",
        "outputId": "c139f3f0-3b50-4d97-8183-9133afd274e3"
      },
      "execution_count": 2,
      "outputs": [
        {
          "output_type": "execute_result",
          "data": {
            "text/plain": [
              "Text(0, 0.5, 'frequency')"
            ]
          },
          "metadata": {},
          "execution_count": 2
        },
        {
          "output_type": "display_data",
          "data": {
            "text/plain": [
              "<Figure size 640x480 with 1 Axes>"
            ],
            "image/png": "[encoded data removed]"
          },
          "metadata": {}
        }
      ]
    },
    {
      "cell_type": "markdown",
      "source": [
        "### Generate 100,000 random numbers uniformly distributed in the interval $[2, 5)$. Then, plot a histogram of the numbers."
      ],
      "metadata": {
        "id": "ODsZn-oQi7wt"
      }
    },
    {
      "cell_type": "code",
      "source": [
        "a = 2\n",
        "b = 5\n",
        "\n",
        "rand_nums = (b-a)*np.random.rand(100000) + a   # [0, 1) -> [a, b)\n",
        "plt.hist(rand_nums, edgecolor='black')"
      ],
      "metadata": {
        "colab": {
          "base_uri": "https://localhost:8080/",
          "height": 537
        },
        "id": "9PiE-v7ki7Va",
        "outputId": "e3ced1f1-56e8-4886-92b4-87427289e948"
      },
      "execution_count": 3,
      "outputs": [
        {
          "output_type": "execute_result",
          "data": {
            "text/plain": [
              "(array([ 9833., 10115.,  9991.,  9849., 10156., 10186.,  9905.,  9996.,\n",
              "         9824., 10145.]),\n",
              " array([2.00000044, 2.29998908, 2.59997772, 2.89996636, 3.199955  ,\n",
              "        3.49994365, 3.79993229, 4.09992093, 4.39990957, 4.69989821,\n",
              "        4.99988685]),\n",
              " <BarContainer object of 10 artists>)"
            ]
          },
          "metadata": {},
          "execution_count": 3
        },
        {
          "output_type": "display_data",
          "data": {
            "text/plain": [
              "<Figure size 640x480 with 1 Axes>"
            ],
            "image/png": "[encoded data removed]"
          },
          "metadata": {}
        }
      ]
    },
    {
      "cell_type": "markdown",
      "source": [
        "## Setting a random seed"
      ],
      "metadata": {
        "id": "480sz1gijB4Y"
      }
    },
    {
      "cell_type": "code",
      "source": [
        "np.random.seed(42)\n",
        "\n",
        "np.random.rand(10)"
      ],
      "metadata": {
        "colab": {
          "base_uri": "https://localhost:8080/"
        },
        "id": "CKpuICLdjFQx",
        "outputId": "83fb580f-820a-4e9e-c001-812d903aa595"
      },
      "execution_count": 4,
      "outputs": [
        {
          "output_type": "execute_result",
          "data": {
            "text/plain": [
              "array([0.37454012, 0.95071431, 0.73199394, 0.59865848, 0.15601864,\n",
              "       0.15599452, 0.05808361, 0.86617615, 0.60111501, 0.70807258])"
            ]
          },
          "metadata": {},
          "execution_count": 4
        }
      ]
    },
    {
      "cell_type": "markdown",
      "source": [
        "________________________________________________________________________________\n",
        "## Use a simple-sampling Monte Carlo method to estimate the value of $\\pi$. Then compare your result to the established value of $\\pi$ by calculating the *percent error*."
      ],
      "metadata": {
        "id": "GanZBwoh5w7F"
      }
    },
    {
      "cell_type": "code",
      "source": [
        "def calc_pi(N):\n",
        "  x_values = 2*np.random.rand(N) - 1\n",
        "  y_values = 2*np.random.rand(N) - 1\n",
        "\n",
        "  N_hits = 0\n",
        "\n",
        "  for x, y in zip(x_values, y_values):\n",
        "    if x**2 + y**2 < 1:\n",
        "      N_hits += 1\n",
        "\n",
        "  pi = 4*N_hits/N\n",
        "\n",
        "  return pi"
      ],
      "metadata": {
        "id": "VfhnMEevrOaW"
      },
      "execution_count": 5,
      "outputs": []
    },
    {
      "cell_type": "code",
      "source": [
        "num_dart_throws = 1000000\n",
        "pi = calc_pi(num_dart_throws)\n",
        "\n",
        "percent_error = abs(np.pi-pi)/np.pi*100\n",
        "\n",
        "print(f'pi = {pi}')\n",
        "print(f'percent error = {percent_error}')"
      ],
      "metadata": {
        "colab": {
          "base_uri": "https://localhost:8080/"
        },
        "id": "dT-FduOEtjoz",
        "outputId": "3a23f2f1-c6fd-4fda-a22e-0967d2031a88"
      },
      "execution_count": 6,
      "outputs": [
        {
          "output_type": "stream",
          "name": "stdout",
          "text": [
            "pi = 3.139892\n",
            "percent error = 0.05413348506050613\n"
          ]
        }
      ]
    },
    {
      "cell_type": "markdown",
      "source": [
        "## Use NumPy's vectorization capabilities to write an alternative version of the `calc_pi()` function that does not use loops. Then compare your result to the established value of $\\pi$ by calculating the *percent error*."
      ],
      "metadata": {
        "id": "pcBiyDW_t9ni"
      }
    },
    {
      "cell_type": "code",
      "source": [
        "def calc_pi_cool(N):\n",
        "  x_values = 2*np.random.rand(N) - 1\n",
        "  y_values = 2*np.random.rand(N) - 1\n",
        "\n",
        "  return 4*(x_values**2 + y_values**2 < 1).mean()"
      ],
      "metadata": {
        "id": "scrRRt7UZD42"
      },
      "execution_count": 7,
      "outputs": []
    },
    {
      "cell_type": "code",
      "source": [
        "num_dart_throws = 1000000\n",
        "pi = calc_pi_cool(num_dart_throws)\n",
        "\n",
        "percent_error = abs(np.pi-pi)/np.pi*100\n",
        "\n",
        "print(f'pi = {pi}')\n",
        "print(f'percent error = {percent_error}')"
      ],
      "metadata": {
        "colab": {
          "base_uri": "https://localhost:8080/"
        },
        "id": "nxeYtj58Cd9h",
        "outputId": "d1f9aa93-19a5-413b-b2f9-7adba780b96a"
      },
      "execution_count": 8,
      "outputs": [
        {
          "output_type": "stream",
          "name": "stdout",
          "text": [
            "pi = 3.139388\n",
            "percent error = 0.07017630332417815\n"
          ]
        }
      ]
    },
    {
      "cell_type": "markdown",
      "source": [
        "## Repeat your Monte Carlo simulation 10 times. Use $N=10,000$ darts throws.\n",
        "- ## Calculate the mean value of $\\pi$ and the standard uncertainty of the mean from the 10 estimates.\n",
        "- ## Then compare your mean value to the established value of $\\pi$ by calculating the percent error."
      ],
      "metadata": {
        "id": "BHqQdN6R7YWB"
      }
    },
    {
      "cell_type": "code",
      "source": [
        "num_runs = 10 # Number of independent runs\n",
        "N = 10000 # Number of dart throws\n",
        "\n",
        "pi_values = []\n",
        "\n",
        "for i in range(num_runs):\n",
        "  pi = calc_pi(N)\n",
        "  pi_values.append(pi)\n",
        "\n",
        "mean_pi = np.mean(pi_values)\n",
        "unc_pi = np.std(pi_values, ddof=1)/np.sqrt(num_runs)\n",
        "\n",
        "print(f'pi = {mean_pi:.3f} +/- {unc_pi:.3f}')"
      ],
      "metadata": {
        "colab": {
          "base_uri": "https://localhost:8080/"
        },
        "id": "UcCrOayGubQJ",
        "outputId": "e57cfa1f-03c8-4de2-aa04-49cfa19857ed"
      },
      "execution_count": 9,
      "outputs": [
        {
          "output_type": "stream",
          "name": "stdout",
          "text": [
            "pi = 3.143 +/- 0.006\n"
          ]
        }
      ]
    },
    {
      "cell_type": "markdown",
      "source": [
        "### Repeat the calculation for $N = 10^3, 10^4, 10^5$, and $10^6$. Then plot percent error as a function of $N$."
      ],
      "metadata": {
        "id": "qWKvg2eQIyzz"
      }
    },
    {
      "cell_type": "code",
      "source": [
        "N_values = [1000, 10000, 100000, 1000000]\n",
        "\n",
        "for N in N_values:\n",
        " # Complete your code"
      ],
      "metadata": {
        "id": "5fm35dlvvZga"
      },
      "execution_count": null,
      "outputs": []
    }
  ]
}