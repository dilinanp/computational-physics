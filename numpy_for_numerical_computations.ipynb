{
  "cells": [
    {
      "cell_type": "markdown",
      "metadata": {
        "id": "view-in-github",
        "colab_type": "text"
      },
      "source": [
        "<a href=\"https://colab.research.google.com/github/dilinanp/computational-physics/blob/main/numpy_for_numerical_computations.ipynb\" target=\"_parent\"><img src=\"https://colab.research.google.com/assets/colab-badge.svg\" alt=\"Open In Colab\"/></a>"
      ]
    },
    {
      "cell_type": "markdown",
      "metadata": {
        "id": "gvZujoxorfP2"
      },
      "source": [
        "# NumPy for Numerical Computations\n",
        "\n",
        "## Introduction\n",
        "\n",
        "**NumPy** is a powerful Python library for generating and processing multidimensional arrays. Since NumPy has bindings to C libraries, manipulating NumPy arrays is considerably faster than manipulating conventional Python lists. For numerical computations, it is highly recommended to use NumPy arrays instead of traditional Python lists due to their efficiency and performance.\n",
        "\n",
        "## Table of Contents\n",
        "1. NumPy Arrays\n",
        "2. Special Array Creation Functions\n",
        "3. Reshaping Arrays\n",
        "4. Mathematical Operations with Arrays\n",
        "5. Generating Random Numbers"
      ]
    },
    {
      "cell_type": "markdown",
      "metadata": {
        "id": "StTQgxS7rfP4"
      },
      "source": [
        "## 1. NumPy Arrays\n",
        "\n",
        "To start using the NumPy library, you first need to import it as follows:"
      ]
    },
    {
      "cell_type": "code",
      "execution_count": null,
      "metadata": {
        "tags": [],
        "id": "9SDEznDHrfP4"
      },
      "outputs": [],
      "source": [
        "import numpy as np"
      ]
    },
    {
      "cell_type": "markdown",
      "metadata": {
        "id": "0py8_nrcrfP5"
      },
      "source": [
        "We use `as np` to give the library a shorter alias, making it more convenient to reference throughout the code. Now, you can invoke NumPy functions using the syntax `np.function_name()`.\n",
        "\n",
        "**NumPy arrays** are the central data structure of the NumPy library. A NumPy array contains a sequence of elements, similar to a Python list. However, they are significantly more efficient than Python lists in terms of performance and memory usage.\n",
        "\n",
        "The simplest approach to generate a NumPy array is to use the function `np.array()` and pass a Python list containing the desired elements as an argument. For example, the following code generates a one-dimensional array with the elements -5, 4, -3, and 9."
      ]
    },
    {
      "cell_type": "code",
      "execution_count": null,
      "metadata": {
        "tags": [],
        "id": "m3swcFAMrfP5"
      },
      "outputs": [],
      "source": [
        "a = np.array([-5, 4, -3, 9])"
      ]
    },
    {
      "cell_type": "markdown",
      "metadata": {
        "id": "7lDS8q-IrfP5"
      },
      "source": [
        "Let's print/display the contents of `a`:"
      ]
    },
    {
      "cell_type": "code",
      "execution_count": null,
      "metadata": {
        "tags": [],
        "id": "lRz_1scErfP5"
      },
      "outputs": [],
      "source": [
        "a"
      ]
    },
    {
      "cell_type": "markdown",
      "metadata": {
        "id": "qOk8l8IIrfP6"
      },
      "source": [
        "The word \"*array*\" in the output indicates that the variable `a` is indeed a NumPy array, not a Python list. If you wish to print the contents in a simpler format, similar to a traditional list, you can use the `print()` function:"
      ]
    },
    {
      "cell_type": "code",
      "execution_count": null,
      "metadata": {
        "tags": [],
        "id": "rpKZnTo5rfP6"
      },
      "outputs": [],
      "source": [
        "print(a)"
      ]
    },
    {
      "cell_type": "markdown",
      "metadata": {
        "id": "iIVh0y1erfP6"
      },
      "source": [
        "NumPy fascilitates multidimensional arrays (arrays with more than one dimension). A multidimensional array is created by passing a nested list (a list of lists) as an argument to `np.array()`. The following line of code creates a two-dimensional array with dimensions $4 \\times 3$."
      ]
    },
    {
      "cell_type": "code",
      "execution_count": null,
      "metadata": {
        "tags": [],
        "id": "t9hyOF9-rfP6"
      },
      "outputs": [],
      "source": [
        "b = np.array( [ [8, -2, 5], [-3, 9, 2], [-1, -3, 4], [5, 1, 6] ] )"
      ]
    },
    {
      "cell_type": "markdown",
      "metadata": {
        "id": "FqkH66virfP6"
      },
      "source": [
        "Each inner list — such as `[8, -2, 5]`, `[-3, 9, 2]`, and so on — represents a row in the resulting 2D array. Let's print the array to see how it looks:"
      ]
    },
    {
      "cell_type": "code",
      "execution_count": null,
      "metadata": {
        "tags": [],
        "id": "lN5nQDTErfP6"
      },
      "outputs": [],
      "source": [
        "print(b)"
      ]
    },
    {
      "cell_type": "markdown",
      "metadata": {
        "id": "WnQrUyZhrfP6"
      },
      "source": [
        "### The *shape* of an array\n",
        "\n",
        "The `len()` function can be used with NumPy arrays to get the size of the first dimension (i.e., the number of rows in a 2D array or the number of elements in a 1D array). For example:"
      ]
    },
    {
      "cell_type": "code",
      "execution_count": null,
      "metadata": {
        "tags": [],
        "id": "8-0ee0XVrfP6"
      },
      "outputs": [],
      "source": [
        "print('Length of a is', len(a))  # For the 1D array 'a', this returns 4 (the number of elements)\n",
        "print('Length of b is', len(b))  # For the 2D array 'b', this returns 4 (the number of rows)"
      ]
    },
    {
      "cell_type": "markdown",
      "metadata": {
        "id": "O4DN1PXZrfP6"
      },
      "source": [
        "To get the size of all dimensions, you can use the `.shape` attribute associated with each array. The `.shape` attribute returns a tuple of integers representing the sizes of all dimensions of the array."
      ]
    },
    {
      "cell_type": "code",
      "execution_count": null,
      "metadata": {
        "tags": [],
        "id": "LmMnY5s1rfP7"
      },
      "outputs": [],
      "source": [
        "print('Shape of a is', a.shape)\n",
        "print('Shape of b is', b.shape)"
      ]
    },
    {
      "cell_type": "markdown",
      "metadata": {
        "id": "eO7Vk2merfP7"
      },
      "source": [
        "The shape of `b` is `(4, 3)`, which makes sense because it is a 2D array (or a matrix) with dimensions $4 \\times 3$. However, the shape of `a` is `(4,)`, which might seem unusual in the context of linear algebra. In linear algebra, we refer to row vectors as having dimensions $1 \\times n$ and column vectors as having dimensions $m \\times 1$. So, why don't we get either `(1, 4)` or `(4, 1)` for the shape of `a`?\n",
        "\n",
        "In NumPy, a one-dimensional array like `a` is considered a simple sequence of elements, so its shape is represented by a single number indicating the number of elements. This is why the shape of `a` is `(4,)`, indicating it is a 1D array with 4 elements.\n",
        "\n",
        "Sometimes, especially when dealing with linear algebraic operations, you may need to create row vectors or column vectors explicitly. To create a row vector or a column vector using `np.array()`, you can provide the appropriate nested list structure when creating the array.\n",
        "\n",
        "For example, you can create a row vector with four columns by passing a list containing a single inner list with the desired elements:"
      ]
    },
    {
      "cell_type": "code",
      "execution_count": null,
      "metadata": {
        "tags": [],
        "id": "gWalqC1PrfP7"
      },
      "outputs": [],
      "source": [
        "row_vector = np.array([[-5, 4, -3, 9]])  # The shape will be (1, 4)\n",
        "\n",
        "print('Shape of row_vector is', row_vector.shape)"
      ]
    },
    {
      "cell_type": "markdown",
      "metadata": {
        "id": "tT8jJDeXrfP7"
      },
      "source": [
        "Similarly, you can create a column vector with four rows by passing a list containing four inner lists, each with a single element."
      ]
    },
    {
      "cell_type": "code",
      "execution_count": null,
      "metadata": {
        "tags": [],
        "id": "e0qdBydarfP7"
      },
      "outputs": [],
      "source": [
        "column_vector = np.array([[-5], [4], [-3], [9]])  # The shape will be (4, 1)\n",
        "\n",
        "print('Shape of column_vector is', column_vector.shape)"
      ]
    },
    {
      "cell_type": "markdown",
      "metadata": {
        "id": "LPquKC65rfP7"
      },
      "source": [
        "### Accessing array elements\n",
        "\n",
        "Just like Python lists, you can access an individual element in a one-dimensional array by specifying the corresponding index within square brackets. Array indexing starts at 0 and goes up to `array_name.shape[0] - 1`."
      ]
    },
    {
      "cell_type": "code",
      "execution_count": null,
      "metadata": {
        "tags": [],
        "id": "OYabgdOWrfP7"
      },
      "outputs": [],
      "source": [
        "print(a[0])  # Prints the first element\n",
        "\n",
        "print(a[1])  # Prints the second element\n",
        "\n",
        "print(a[a.shape[0] - 1])  # Prints the last element"
      ]
    },
    {
      "cell_type": "markdown",
      "metadata": {
        "id": "TE9MELQcrfP7"
      },
      "source": [
        "Negative indexing is also allowed to naviagte the array backwards."
      ]
    },
    {
      "cell_type": "code",
      "execution_count": null,
      "metadata": {
        "tags": [],
        "id": "kgdzoAKmrfP7"
      },
      "outputs": [],
      "source": [
        "print(a[-1])  # Prints the last element\n",
        "\n",
        "print(a[-2])  # Prints the second last element"
      ]
    },
    {
      "cell_type": "markdown",
      "metadata": {
        "id": "1u01SFlrrfP7"
      },
      "source": [
        "In a two-dimensional array, you can access an element by specifying its row and column indices within square brackets, separated by a comma. That is, to access the element located at row index `i` and column index `j`, we use `array_name[i, j]`. Note that `i` goes from 0 to `array_name.shape[0] - 1`, and `j` goes from 0 to `array_name.shape[1]-1`."
      ]
    },
    {
      "cell_type": "code",
      "execution_count": null,
      "metadata": {
        "tags": [],
        "id": "VEfp9AyHrfP7"
      },
      "outputs": [],
      "source": [
        "print(b[0, 0])  # Prints the element located at the first row and first column\n",
        "\n",
        "print(b[1, 2])  # Prints the element located at the second row and third column\n",
        "\n",
        "print(b[b.shape[0]-1, b.shape[1]-1]) # Prints the element located at the last row and last column\n",
        "                                     # Alternatively, b[-1, -1] gives the same element"
      ]
    },
    {
      "cell_type": "markdown",
      "metadata": {
        "id": "BSzYIqBdrfP7"
      },
      "source": [
        "### Array slicing\n",
        "\n",
        "You can retrieve a subset of elements in an array through slicing, just as you did with lists. See the following examples:"
      ]
    },
    {
      "cell_type": "code",
      "execution_count": null,
      "metadata": {
        "tags": [],
        "id": "gNpCqY2LrfP7"
      },
      "outputs": [],
      "source": [
        "# Retrieve the elements of \"a\" from index 1 to 2. Note that the element at index 3 will not be included.\n",
        "\n",
        "a[1:3]"
      ]
    },
    {
      "cell_type": "code",
      "execution_count": null,
      "metadata": {
        "tags": [],
        "id": "2GQ5hR4VrfP7"
      },
      "outputs": [],
      "source": [
        "# Retrieve the first 3 elements of \"a\" (i.e., the elements at indices from 0 through 2).\n",
        "\n",
        "a[:3]"
      ]
    },
    {
      "cell_type": "code",
      "execution_count": null,
      "metadata": {
        "tags": [],
        "id": "fCb_8LbFrfP7"
      },
      "outputs": [],
      "source": [
        "# Retrieve the elements from index 1 to the end of the array.\n",
        "\n",
        "a[1:]"
      ]
    },
    {
      "cell_type": "code",
      "execution_count": null,
      "metadata": {
        "tags": [],
        "id": "VXsS0E0irfP7"
      },
      "outputs": [],
      "source": [
        "# Retrieve the last two elements.\n",
        "\n",
        "a[-2:]"
      ]
    },
    {
      "cell_type": "code",
      "execution_count": null,
      "metadata": {
        "tags": [],
        "id": "GpMjnUnLrfP7"
      },
      "outputs": [],
      "source": [
        "# Retrieve every second element in the entire array, starting from the 1st element.\n",
        "\n",
        "a[::2]"
      ]
    },
    {
      "cell_type": "markdown",
      "metadata": {
        "id": "RjudRGCtrfP7"
      },
      "source": [
        "You can also slice multidimensional arrays. The following example retrieves a subset of elements from the array `b`, specifically selecting rows with indices 1 through 2 and all columns starting from column index 1 to the last column:"
      ]
    },
    {
      "cell_type": "code",
      "execution_count": null,
      "metadata": {
        "tags": [],
        "id": "Lhf0vgNprfP7"
      },
      "outputs": [],
      "source": [
        "b[1:3, 1:]"
      ]
    },
    {
      "cell_type": "markdown",
      "metadata": {
        "id": "5i_Adp7SrfP7"
      },
      "source": [
        "### Data types in NumPy\n",
        "\n",
        "Each NumPy array has a data type that defines the type of elements stored in the array. NumPy supports various data types, including:\n",
        "- `int` (integer)\n",
        "- `float` (floating point)\n",
        "- `complex` (complex numbers)\n",
        "- `bool` (boolean)\n",
        "- `object` (Python objects)\n",
        "- `str` (string)\n",
        "\n",
        "You can check the data type of an array using the `.dtype` attribute. If `dtype` is not explicitly specified when creating an array, it is inferred from the data used to initialize the array."
      ]
    },
    {
      "cell_type": "code",
      "execution_count": null,
      "metadata": {
        "tags": [],
        "id": "cfeZzHZlrfP7"
      },
      "outputs": [],
      "source": [
        "print(a.dtype)  # Prints the data type of the array 'a'\n",
        "\n",
        "print(b.dtype)  # Prints the data type of the array 'b'"
      ]
    },
    {
      "cell_type": "markdown",
      "metadata": {
        "id": "QPh2EhesrfP8"
      },
      "source": [
        "Here, both `a` and `b` are of `int` type because when creating these vectors with `np.array()`, we passed a list of whole numbers . Depending on your operating system and the NumPy version, you may either see `int64` (indicating a 64-bit integer) or `int-32` (32-bit integer).\n",
        "\n",
        "If you pass in a list of floating-point numbers to `np.array()`, the `dtype` will automatically be `float`."
      ]
    },
    {
      "cell_type": "code",
      "execution_count": null,
      "metadata": {
        "tags": [],
        "id": "e178eCpJrfP8"
      },
      "outputs": [],
      "source": [
        "c = np.array([5.0, 1.5e-2, 7.89, 0.1e2])\n",
        "\n",
        "print(c)  # Print the array\n",
        "\n",
        "print(c.dtype)  # Print the data type"
      ]
    },
    {
      "cell_type": "markdown",
      "metadata": {
        "tags": [],
        "id": "GrwdtMwJrfP_"
      },
      "source": [
        "You can also specify the data type when creating an array. In the following examples, although we are passing in a list of whole numbers, the arrays will still be of type `float` since we are explicitly specifying the `dtype`."
      ]
    },
    {
      "cell_type": "code",
      "execution_count": null,
      "metadata": {
        "tags": [],
        "id": "Q3huaDUPrfP_"
      },
      "outputs": [],
      "source": [
        "d = np.array([7, 8, 11, -3], dtype=np.float32)  # 32-bit float\n",
        "\n",
        "print(f'dtype of d: {d.dtype}')\n",
        "\n",
        "e = np.array([5, -6, 100, 8], dtype=np.float64)  # 64-bit float\n",
        "\n",
        "print(f'dtype of e: {e.dtype}')"
      ]
    },
    {
      "cell_type": "markdown",
      "metadata": {
        "id": "EA3X6LvsrfP_"
      },
      "source": [
        "### Looping over an array\n",
        "\n",
        "You can iterate over the elements in a one-dimensional array using a `for` loop, just like you would do wih a Python list:"
      ]
    },
    {
      "cell_type": "code",
      "execution_count": null,
      "metadata": {
        "tags": [],
        "id": "yMMb0VrVrfP_"
      },
      "outputs": [],
      "source": [
        "# Iterate over the elements in \"a\" and print their values\n",
        "\n",
        "for num in a:\n",
        "    print(num)"
      ]
    },
    {
      "cell_type": "code",
      "execution_count": null,
      "metadata": {
        "tags": [],
        "id": "dKhhlwBqrfP_"
      },
      "outputs": [],
      "source": [
        "# Iterate over the elements in \"a\" and print their values along with their indices\n",
        "\n",
        "for index, num in enumerate(a):\n",
        "    print(f'The value at index {index} is {num}')"
      ]
    },
    {
      "cell_type": "markdown",
      "metadata": {
        "id": "9vN_V81hrfP_"
      },
      "source": [
        "When you iterate over a multi-dimensional NumPy array, you iterate over the elements along the first dimension (or axis). In other words, each iteration provides a one-dimensional slice of the array corresponding to that first dimension."
      ]
    },
    {
      "cell_type": "code",
      "execution_count": null,
      "metadata": {
        "tags": [],
        "id": "QKjg8e9frfP_"
      },
      "outputs": [],
      "source": [
        "# Iterate over the rows in \"b\" and print each row along with the corresponding row index\n",
        "\n",
        "for row_index, row in enumerate(b):\n",
        "    print(f'row {row_index}: {row}')"
      ]
    },
    {
      "cell_type": "markdown",
      "metadata": {
        "id": "JoE8CQjQrfP_"
      },
      "source": [
        "## 2. Special Array Creation Functions\n",
        "\n",
        "NumPy provides several functions to create arrays with specific patterns or values. These functions are useful for creating arrays with a desired structure without manually specifying each element.\n",
        "\n",
        "### Creating Arrays of Zeros and Ones\n",
        "\n",
        "The functions `zeros()` and `ones()` create arrays filled with zeros and ones, respectively. They are particularly useful for initializing arrays before performing computations.\n",
        "\n",
        "`zeros()` creates an array filled with zeros. To generate a one-dimensional array of zeros, simply pass the number of elements as an argument."
      ]
    },
    {
      "cell_type": "code",
      "execution_count": null,
      "metadata": {
        "tags": [],
        "id": "EXoWej_HrfP_"
      },
      "outputs": [],
      "source": [
        "x = np.zeros(10)\n",
        "\n",
        "print(x)"
      ]
    },
    {
      "cell_type": "markdown",
      "metadata": {
        "id": "UzN59vFMrfP_"
      },
      "source": [
        "To create a multi-dimensional array, pass the shape of the array as an argument."
      ]
    },
    {
      "cell_type": "code",
      "execution_count": null,
      "metadata": {
        "tags": [],
        "id": "nHIwJTm2rfP_"
      },
      "outputs": [],
      "source": [
        "y = np.zeros((2, 3))\n",
        "\n",
        "print(y)"
      ]
    },
    {
      "cell_type": "markdown",
      "metadata": {
        "id": "t3Ik5WefrfP_"
      },
      "source": [
        "`ones()` creates an array filled with ones."
      ]
    },
    {
      "cell_type": "code",
      "execution_count": null,
      "metadata": {
        "tags": [],
        "id": "iYQwAFkDrfP_"
      },
      "outputs": [],
      "source": [
        "z = np.ones((3, 4))\n",
        "\n",
        "print(z)"
      ]
    },
    {
      "cell_type": "markdown",
      "metadata": {
        "id": "MVkP7XJnrfP_"
      },
      "source": [
        "Note that `zeros()` and `ones()` create arrays of type `float`. If you require the array to be of `integer` type, you can specify the data type using the `dtype` attribute."
      ]
    },
    {
      "cell_type": "code",
      "execution_count": null,
      "metadata": {
        "tags": [],
        "id": "wBhLwONOrfQA"
      },
      "outputs": [],
      "source": [
        "w = np.ones(5, dtype=np.int32)  # 32-bit integer\n",
        "\n",
        "print(w)"
      ]
    },
    {
      "cell_type": "markdown",
      "metadata": {
        "id": "3G8tbyGQrfQA"
      },
      "source": [
        "### `arange()` Function\n",
        "\n",
        "The `arange()` function creates an array with evenly spaced values within a specified range. It is similar in flavor to the Python built-in function `range()`. However, unlike `range()`, which returns a `range` object, `arange()` directly returns a NumPy array.\n",
        "\n",
        "`arange()` accepts up to three arguments: `start`, `stop`, and `step`. The `stop` argument is mandatory, while `start` and `step` are optional. Unlike the `range()` function, these parameters can be either integer or floating-point values.\n",
        "\n",
        "When `arange()` is called with a single argument `stop`, i.e., `arange(stop)`, it generates an array of values starting from 0 up to, but not including, `stop`, with an increment of 1 between consecutive values."
      ]
    },
    {
      "cell_type": "code",
      "execution_count": null,
      "metadata": {
        "tags": [],
        "id": "p_wZZ8CFrfQA"
      },
      "outputs": [],
      "source": [
        "x = np.arange(10)\n",
        "\n",
        "x"
      ]
    },
    {
      "cell_type": "markdown",
      "metadata": {
        "id": "5H55CTLhrfQA"
      },
      "source": [
        "`arange(start, stop)` generates an array with values starting from `start` up to, but not including, `stop`, with an increment of 1 between consecutive values."
      ]
    },
    {
      "cell_type": "code",
      "execution_count": null,
      "metadata": {
        "tags": [],
        "id": "DmG15_3frfQA"
      },
      "outputs": [],
      "source": [
        "y = np.arange(1, 11)\n",
        "\n",
        "y"
      ]
    },
    {
      "cell_type": "markdown",
      "metadata": {
        "id": "DwDd2iKfrfQA"
      },
      "source": [
        "`arange(start, stop, step)` generates an array with values starting from `start` up to, but not including, `stop`, with an increment of `step` between consecutive values."
      ]
    },
    {
      "cell_type": "code",
      "execution_count": null,
      "metadata": {
        "tags": [],
        "id": "yiTxvcbSrfQA"
      },
      "outputs": [],
      "source": [
        "z = np.arange(0, 11, 2)\n",
        "\n",
        "z"
      ]
    },
    {
      "cell_type": "markdown",
      "metadata": {
        "id": "18ENPhjMrfQA"
      },
      "source": [
        "The `start`, `stop`, and `step` arguments can be floating-point values. If any of these arguments is a floating-point number, the resulting array will also be of type `float`:"
      ]
    },
    {
      "cell_type": "code",
      "execution_count": null,
      "metadata": {
        "tags": [],
        "id": "V_qZyY23rfQA"
      },
      "outputs": [],
      "source": [
        "u = np.arange(0.0, 10, 2)\n",
        "\n",
        "u"
      ]
    },
    {
      "cell_type": "markdown",
      "metadata": {
        "id": "aMRkLCmzrfQA"
      },
      "source": [
        "The following example creates a `float` array with values starting from 1.0 up to 5.0 (but not including 5.0), with an increment of 0.2 between consecutive values."
      ]
    },
    {
      "cell_type": "code",
      "execution_count": null,
      "metadata": {
        "tags": [],
        "id": "c13nSCTarfQA"
      },
      "outputs": [],
      "source": [
        "w = np.arange(1, 5, 0.2)\n",
        "\n",
        "w"
      ]
    },
    {
      "cell_type": "markdown",
      "metadata": {
        "id": "csaC25nGrfQA"
      },
      "source": [
        "### `linspace()` function\n",
        "\n",
        "`linspace()` is one of the most popular and highly useful functions for creating NumPy arrays. It creates an array with a specified number of evenly spaced values over a given interval. It takes three arguments: the starting value of the sequence `start`, the ending value of the sequence `stop`, and the number of values to generate `num`, i.e., `linspace(start, stop, num)`. The function returns `num` evenly spaced values, calculated over the interval `[start, stop]`. `start` and `stop` are both included in the generated sequence. See the following examples."
      ]
    },
    {
      "cell_type": "code",
      "execution_count": null,
      "metadata": {
        "tags": [],
        "id": "9ZkdoUnfrfQA"
      },
      "outputs": [],
      "source": [
        "# Generate 20 evenly spaced values over the closed interval [0, 10]\n",
        "x = np.linspace(0, 10, 20)\n",
        "\n",
        "x"
      ]
    },
    {
      "cell_type": "code",
      "execution_count": null,
      "metadata": {
        "tags": [],
        "id": "misOjYO6rfQA"
      },
      "outputs": [],
      "source": [
        "# Generate 5 evenly spaced values over the closed interval [1, 20]\n",
        "y = np.linspace(1, 20, 5)\n",
        "\n",
        "y"
      ]
    },
    {
      "cell_type": "markdown",
      "metadata": {
        "id": "lxgjeJyNrfQA"
      },
      "source": [
        "### `logspace()` function\n",
        "\n",
        "The `logspace(start, stop, num)` function returns `num` evenly spaced samples on a **logarithmic scale**, calculated over the interval $[10^\\text{start}, 10^\\text{stop}]$. Both $10^\\text{start}$ and $10^\\text{stop}$ are included in the generated sequence."
      ]
    },
    {
      "cell_type": "code",
      "execution_count": null,
      "metadata": {
        "tags": [],
        "id": "oKiAowperfQA"
      },
      "outputs": [],
      "source": [
        "# Generate 10 values evenly spaced on a logarithmic scale between 10^1 and 10^3\n",
        "z = np.logspace(1, 3, 10)\n",
        "\n",
        "z"
      ]
    },
    {
      "cell_type": "markdown",
      "metadata": {
        "id": "r2AwYBq2rfQA"
      },
      "source": [
        "Additionally, you can change the base of the logarithmic scale from its default value of 10 to any other value by specifying the `base` parameter."
      ]
    },
    {
      "cell_type": "code",
      "execution_count": null,
      "metadata": {
        "tags": [],
        "id": "YAvL9IjwrfQA"
      },
      "outputs": [],
      "source": [
        "# Generate 10 values evenly spaced on a logarithmic scale with base e (natural logarithm) between e^0 and e^4\n",
        "w = np.logspace(0, 4, 10, base=np.e)\n",
        "\n",
        "w"
      ]
    },
    {
      "cell_type": "markdown",
      "metadata": {
        "id": "QEPY5QeXrfQA"
      },
      "source": [
        "Note that in the example above, `np.e` gives the mathematical constant $e$ representing the base of the natural logarithm."
      ]
    },
    {
      "cell_type": "markdown",
      "metadata": {
        "id": "s7tKr_UirfQA"
      },
      "source": [
        "## 3. Reshaping Arrays\n",
        "\n",
        "The `reshape()` function allows you to give a new shape to an array without modifying its data. You pass the new shape as a tuple, and NumPy automatically arranges the elements to fit this new shape.\n",
        "\n",
        "It's important to note that the total number of elements must remain the same after reshaping. In other words, the product of the sizes of the dimensions in the original shape must equal the product of the sizes of the dimensions in the new shape.\n",
        "\n",
        "Also, `reshape()` does not change the shape of the original array; it returns a new array with the specified shape.\n",
        "\n",
        "To demonstrate how `reshape()` works, let's first create a 1D array with 12 elements:"
      ]
    },
    {
      "cell_type": "code",
      "execution_count": null,
      "metadata": {
        "tags": [],
        "id": "xhYRby8yrfQB"
      },
      "outputs": [],
      "source": [
        "arr = np.arange(12)\n",
        "\n",
        "arr"
      ]
    },
    {
      "cell_type": "markdown",
      "metadata": {
        "id": "rE_KYriqrfQB"
      },
      "source": [
        "Let's create a new array of shape $4 \\times 3$ with the same elements as `arr`:"
      ]
    },
    {
      "cell_type": "code",
      "execution_count": null,
      "metadata": {
        "tags": [],
        "id": "hmm-XPO_rfQB"
      },
      "outputs": [],
      "source": [
        "arr_mod = arr.reshape(4, 3)\n",
        "\n",
        "arr_mod"
      ]
    },
    {
      "cell_type": "markdown",
      "metadata": {
        "id": "eI-jAb-hrfQB"
      },
      "source": [
        "Note that NumPy reshapes the array by filling it row by row (following \"C-order\"), ensuring that the elements are arranged correctly within the new shape.\n",
        "\n",
        "When specifying the new shape, the size of one dimension can be set to `-1`. NumPy will automatically infer the actual size of that dimension based on the other specified dimensions and the total number of elements in the array.\n",
        "\n",
        "For example, let's generate a three-dimensional array with the same elements as `arr`, where the first two dimensions have a size of 2:"
      ]
    },
    {
      "cell_type": "code",
      "execution_count": null,
      "metadata": {
        "tags": [],
        "id": "0QM15biArfQB"
      },
      "outputs": [],
      "source": [
        "arr_mod_3D = arr.reshape(2,2,-1)\n",
        "\n",
        "print('shape of arr_mod_3D:', arr_mod_3D.shape)\n",
        "\n",
        "print()  # Print a blank line between outputs\n",
        "\n",
        "print(arr_mod_3D)"
      ]
    },
    {
      "cell_type": "markdown",
      "metadata": {
        "id": "gPPMhwBQrfQB"
      },
      "source": [
        "Note that NumPy infers the size of the third dimension to be 3 based on the sizes of the other two dimensions.\n",
        "\n",
        "We can use the same trick to generate a row vector with the same elements as `arr`:"
      ]
    },
    {
      "cell_type": "code",
      "execution_count": null,
      "metadata": {
        "tags": [],
        "id": "d-1kgsNrrfQB"
      },
      "outputs": [],
      "source": [
        "arr_row = arr.reshape(1, -1)\n",
        "\n",
        "print('shape of arr_row:', arr_row.shape)\n",
        "\n",
        "print()  # Print a blank line between outputs\n",
        "\n",
        "print(arr_row)"
      ]
    },
    {
      "cell_type": "markdown",
      "metadata": {
        "id": "KbIdvH0zrfQB"
      },
      "source": [
        "The following code generates a column vector with the same elements as `arr`:"
      ]
    },
    {
      "cell_type": "code",
      "execution_count": null,
      "metadata": {
        "tags": [],
        "id": "E4Z3SBL3rfQB"
      },
      "outputs": [],
      "source": [
        "arr_col = arr.reshape(-1, 1)\n",
        "\n",
        "print('shape of arr_col:', arr_col.shape)\n",
        "\n",
        "print()  # Print a blank line between outputs\n",
        "\n",
        "print(arr_col)"
      ]
    },
    {
      "cell_type": "markdown",
      "metadata": {
        "tags": [],
        "id": "oXPJ92pprfQB"
      },
      "source": [
        "## 4. Mathematical Operations with Arrays\n",
        "\n",
        "NumPy arrays are designed to make mathematical operations straightforward and efficient.\n",
        "\n",
        "### Element-wise operations\n",
        "\n",
        "One of the key features of NumPy is its ability to perform element-wise operations, which allow you to apply mathematical functions directly to arrays without the need for explicit loops.\n",
        "\n",
        "Let's start by creating two 1D arrays, `a` and `b`, to demonstrate basic element-wise operations:"
      ]
    },
    {
      "cell_type": "code",
      "execution_count": null,
      "metadata": {
        "tags": [],
        "id": "PwuFEUg9rfQB"
      },
      "outputs": [],
      "source": [
        "a = np.array([1, 2, 3, 4, 5])\n",
        "\n",
        "b = np.array([10, 20, 30, 40, 50])\n",
        "\n",
        "\n",
        "print('a =', a)\n",
        "print('b =', b)"
      ]
    },
    {
      "cell_type": "markdown",
      "metadata": {
        "id": "xRBwG9qYrfQB"
      },
      "source": [
        "You can add or subtract two arrays element by element:"
      ]
    },
    {
      "cell_type": "code",
      "execution_count": null,
      "metadata": {
        "tags": [],
        "id": "XkbgTuMGrfQB"
      },
      "outputs": [],
      "source": [
        "# Element-wise addition\n",
        "sum_ab = a + b\n",
        "\n",
        "print('a + b =', sum_ab)\n",
        "\n",
        "\n",
        "# Element-wise subtraction\n",
        "diff_ab = a - b\n",
        "\n",
        "print('a - b =', diff_ab)"
      ]
    },
    {
      "cell_type": "markdown",
      "metadata": {
        "id": "2w64pXI_rfQB"
      },
      "source": [
        "In the example above, each element of `a` is added to or subtracted from the corresponding element in `b`.\n",
        "\n",
        "You can multiply an entire array by a scalar, which scales each element of the array by that scalar:"
      ]
    },
    {
      "cell_type": "code",
      "execution_count": null,
      "metadata": {
        "tags": [],
        "id": "VmtCMzbUrfQB"
      },
      "outputs": [],
      "source": [
        "# Multiply array \"a\" by 3\n",
        "scaled_a = 3*a\n",
        "\n",
        "print('3*a =', scaled_a)"
      ]
    },
    {
      "cell_type": "markdown",
      "metadata": {
        "id": "Y_rLgqwPrfQB"
      },
      "source": [
        "Similarly, you can divide an entire array by a scalar, which scales each array element by the inverse of that scalar:"
      ]
    },
    {
      "cell_type": "code",
      "execution_count": null,
      "metadata": {
        "tags": [],
        "id": "VxukR50YrfQB"
      },
      "outputs": [],
      "source": [
        "# Divide array \"b\" by 2\n",
        "scaled_b = b/2\n",
        "\n",
        "print('b/2 =', scaled_b)"
      ]
    },
    {
      "cell_type": "markdown",
      "metadata": {
        "id": "8gA2jV1ArfQB"
      },
      "source": [
        "You can also multiply two arrays element by element:"
      ]
    },
    {
      "cell_type": "code",
      "execution_count": null,
      "metadata": {
        "tags": [],
        "id": "STkqqNZIrfQB"
      },
      "outputs": [],
      "source": [
        "# Element-wise multiplication\n",
        "prod_ab = a*b\n",
        "\n",
        "print('a*b =', prod_ab)"
      ]
    },
    {
      "cell_type": "markdown",
      "metadata": {
        "id": "a8Nk1sPErfQB"
      },
      "source": [
        "Here, each element of `a` is multiplied by the corresponding element in `b`.\n",
        "\n",
        "You can divide one array by another element by element using the `/` operator:"
      ]
    },
    {
      "cell_type": "code",
      "execution_count": null,
      "metadata": {
        "tags": [],
        "id": "ny6XvRKJrfQB"
      },
      "outputs": [],
      "source": [
        "# Element-wise division\n",
        "div_ab = b / a\n",
        "\n",
        "print('b / a =', div_ab)"
      ]
    },
    {
      "cell_type": "markdown",
      "metadata": {
        "id": "Sf2ccMklrfQC"
      },
      "source": [
        "In the example above, each element of `b` is divided by the corresponding element in `a`.\n",
        "\n",
        "You can raise each element of an array to a power using the `**` operator:"
      ]
    },
    {
      "cell_type": "code",
      "execution_count": null,
      "metadata": {
        "tags": [],
        "id": "JRQ2oySsrfQC"
      },
      "outputs": [],
      "source": [
        "# Element-wise exponentiation\n",
        "a_pow_2 = a**2\n",
        "\n",
        "print('a**2 =', a_pow_2)"
      ]
    },
    {
      "cell_type": "markdown",
      "metadata": {
        "id": "No2OBjZarfQC"
      },
      "source": [
        "Here, each element in `a` is squared.\n",
        "\n",
        "You can also add a scalar to each element of an array as follows:"
      ]
    },
    {
      "cell_type": "code",
      "execution_count": null,
      "metadata": {
        "tags": [],
        "id": "-acJKsgcrfQC"
      },
      "outputs": [],
      "source": [
        "# Add a scalar to an array\n",
        "b_mod = b + 3\n",
        "\n",
        "print('b + 3 =', b_mod)"
      ]
    },
    {
      "cell_type": "markdown",
      "metadata": {
        "id": "tO-H5wWurfQC"
      },
      "source": [
        "This operation works through a mechanism called *broadcasting*, where NumPy automatically expands the scalar to match the shape of the array and then performs the addition element-wise.\n",
        "\n",
        "You can perform complex mathematical operations on an array, combining any of the above operations, and NumPy will apply them element-wise. For example, suppose you have an array of values for a variable $x$, and you want to determine the corresponding values of $y$ according to the equation $y = 2x^2 - 3x + 5$. This can be achived as follows:"
      ]
    },
    {
      "cell_type": "code",
      "execution_count": null,
      "metadata": {
        "tags": [],
        "id": "z84i9vDorfQC"
      },
      "outputs": [],
      "source": [
        "x_values = np.array([0.0, 0.14, 0.21, 0.28, 0.42])  # The array of x values\n",
        "\n",
        "y_values = 2*x_values**2 - 3*x_values + 5\n",
        "\n",
        "print(y_values)"
      ]
    },
    {
      "cell_type": "markdown",
      "metadata": {
        "id": "V69s6sf0rfQC"
      },
      "source": [
        "This code applies the equation element-wise to each value in `x_values`, resulting in the corresponding `y_values`.\n",
        "\n",
        "### Predefined element-wise mathematical functions\n",
        "\n",
        "NumPy provides a wide range of predefined mathematical functions. These functions include common operations such as trigonometric functions, exponential and logarithmic functions, and more. Unlike the functions in Python’s built-in `math` library, which can only operate on single numbers, NumPy’s mathematical functions can operate on entire arrays at once. This makes NumPy's functions much more efficient and convenient for numerical computations.\n",
        "\n",
        "Here are some examples of common mathematical functions in NumPy:"
      ]
    },
    {
      "cell_type": "code",
      "execution_count": null,
      "metadata": {
        "tags": [],
        "id": "O1ly5qcRrfQC"
      },
      "outputs": [],
      "source": [
        "# Example array\n",
        "c = np.linspace(1, 10, 6)\n",
        "\n",
        "print(\"c =\", c)\n",
        "\n",
        "print()  # Print a blank line between outputs\n",
        "\n",
        "# np.sqrt() - calculates the square root\n",
        "print(\"square root of c =\", np.sqrt(c))\n",
        "\n",
        "print()  # Print a blank line between outputs\n",
        "\n",
        "# np.exp() - calculates the exponential\n",
        "print(\"exp(c) =\", np.exp(c))\n",
        "\n",
        "print()  # Print a blank line between outputs\n",
        "\n",
        "# np.log() - calculates the natural logarithm\n",
        "print(\"log(c) =\", np.log(c))"
      ]
    },
    {
      "cell_type": "markdown",
      "metadata": {
        "tags": [],
        "id": "Xgu6m-ZKrfQC"
      },
      "source": [
        "Here are a few more examples involving trignometric functions:"
      ]
    },
    {
      "cell_type": "code",
      "execution_count": null,
      "metadata": {
        "tags": [],
        "id": "P8KuTqGZrfQC"
      },
      "outputs": [],
      "source": [
        "# Example array\n",
        "d = np.linspace(0, np.pi, 5)  # np.pi gives the constant pi\n",
        "\n",
        "print(\"d =\", d)\n",
        "\n",
        "print()  # Print a blank line between outputs\n",
        "\n",
        "# np.sin() - calculates the sine\n",
        "print(\"sin(d) =\", np.sin(d))\n",
        "\n",
        "print()  # Print a blank line between outputs\n",
        "\n",
        "# np.cos() - calculates the cosine\n",
        "print(\"cos(d) =\", np.cos(d))\n",
        "\n",
        "print()  # Print a blank line between outputs\n",
        "\n",
        "# np.tan() - calculates the tangent\n",
        "print(\"tan(d) =\", np.tan(d))"
      ]
    },
    {
      "cell_type": "markdown",
      "metadata": {
        "id": "ZnkAdc6trfQC"
      },
      "source": [
        "### Aggregate functions\n",
        "\n",
        "NumPy provides several *aggregate* functions that operate on arrays to return a single value or an array of reduced dimensions. These functions include common operations such as the sum, mean, standard deviation, etc. These functions can either operate on the entire array, which yields a single value as the result, or along a specific axis (explained later).\n",
        "\n",
        "Here are some examples of commonly used aggregate functions:"
      ]
    },
    {
      "cell_type": "code",
      "execution_count": null,
      "metadata": {
        "tags": [],
        "id": "aWhUwowarfQC"
      },
      "outputs": [],
      "source": [
        "# Example 2D array\n",
        "arr = np.array([[1, 2, 3, 4], [5, 6, 7, 8], [9, 10, 11, 12]])\n",
        "\n",
        "print(\"arr:\")\n",
        "print(arr)\n",
        "\n",
        "print()  # Print a blank line between outputs\n",
        "\n",
        "# Calculate the sum of all elements\n",
        "print(\"Sum of all elements in arr =\", arr.sum())\n",
        "\n",
        "print()  # Print a blank line between outputs\n",
        "\n",
        "# Calculate the mean of all elements\n",
        "print(\"Mean of all elements in arr =\", arr.mean())\n",
        "\n",
        "print()  # Print a blank line between outputs\n",
        "\n",
        "# Calculate the standard deviation of all elements\n",
        "print(\"Standard deviation of all elements in arr =\", arr.std())"
      ]
    },
    {
      "cell_type": "markdown",
      "metadata": {
        "id": "df4jqlTSrfQC"
      },
      "source": [
        "By default, these aggregate functions operate on all elements in the array and returns a single value as the result. However, you can use the optional `axis` parameter to specify the axis along which the operation should be performed. In a 2D array, you can set `axis=0` to perform the operation along columns or `axis=1` to perform the operation along rows. See the following example:"
      ]
    },
    {
      "cell_type": "code",
      "execution_count": null,
      "metadata": {
        "tags": [],
        "id": "Vo_ZKl45rfQC"
      },
      "outputs": [],
      "source": [
        "# Sum along the columns (axis=0)\n",
        "print(\"Sum along columns:\", arr.sum(axis=0))\n",
        "\n",
        "print()  # Print a blank line between outputs\n",
        "\n",
        "# Sum along the rows (axis=1)\n",
        "print(\"Sum along rows:\", arr.sum(axis=1))"
      ]
    },
    {
      "cell_type": "markdown",
      "metadata": {
        "id": "1pQExXOdrfQC"
      },
      "source": [
        "In the example above, `arr.sum(axis=0)` sums the elements in each column of the array separately, yielding an array with four elements, each representing the sum of the corresponding column. Similarly, `arr.sum(axis=1)` sums the elements in each row separately, yielding an array with three elements, each representing the sum of the corresponding row.\n",
        "\n",
        "### Linear algebraic operations\n",
        "\n",
        "NumPy supports linear algebraic operations as well, which are essential for many scientific and engineering applications. These operations include matrix multiplication, inner product, matrix transposition, etc.\n",
        "\n",
        "Recall that the **inner (dot) product** of two vectors is defined as the sum of the products of their corresponding elements. One way to compute the inner product is to perform the element-wise product of the two vectors, and then call the `sum()` function on the resulting array, as shown below."
      ]
    },
    {
      "cell_type": "code",
      "execution_count": null,
      "metadata": {
        "tags": [],
        "id": "UlOArFiirfQC"
      },
      "outputs": [],
      "source": [
        "# Example vectors\n",
        "v1 = np.array([1, 2, 3, 4])\n",
        "v2 = np.array([5, 6, 7, 8])\n",
        "\n",
        "# Calculate the inner product of v1 and v2\n",
        "inner_product = (v1*v2).sum()\n",
        "\n",
        "print(\"Inner product of v1 and v2 =\", inner_product)"
      ]
    },
    {
      "cell_type": "markdown",
      "metadata": {
        "id": "VX9v7YJLrfQC"
      },
      "source": [
        "Alternatively, you can use the `numpy.dot()` function to directly calculate the inner product as follows:"
      ]
    },
    {
      "cell_type": "code",
      "execution_count": null,
      "metadata": {
        "tags": [],
        "id": "cRmgkMmLrfQC"
      },
      "outputs": [],
      "source": [
        "# Calculate the inner product of v1 and v2 using np.dot()\n",
        "inner_product_alt = np.dot(v1, v2)\n",
        "\n",
        "print(\"Inner product of v1 and v2 =\", inner_product_alt)"
      ]
    },
    {
      "cell_type": "markdown",
      "metadata": {
        "id": "WHAgdirXrfQC"
      },
      "source": [
        "**Matrix multiplication** is another fundamental operation in linear algebra where each element of the resultant matrix is obtained by taking the inner product of the corresponding row of the first matrix with the corresponding column of the second matrix. To perform matrix multiplication, you can use the `numpy.matmul()` function:  "
      ]
    },
    {
      "cell_type": "code",
      "execution_count": null,
      "metadata": {
        "tags": [],
        "id": "2IKgHvlGrfQD"
      },
      "outputs": [],
      "source": [
        "# Example matrices (2D arrays)\n",
        "m1 = np.array([[1, 2], [3, 4]])\n",
        "m2 = np.array([[5, 6], [7, 8]])\n",
        "\n",
        "# Matrix multiplication using np.matmul()\n",
        "matrix_product = np.matmul(m1, m2)\n",
        "\n",
        "print(\"Matrix product of m1 and m2:\")\n",
        "print(matrix_product)"
      ]
    },
    {
      "cell_type": "markdown",
      "metadata": {
        "id": "W4RWwfSFrfQD"
      },
      "source": [
        "Alternatively, you can use the `@` operator for matrix multiplication:"
      ]
    },
    {
      "cell_type": "code",
      "execution_count": null,
      "metadata": {
        "tags": [],
        "id": "l1u4vyU2rfQD"
      },
      "outputs": [],
      "source": [
        "# Matrix multiplication using @ operator\n",
        "matrix_product_alt = m1 @ m2\n",
        "\n",
        "print(\"Matrix product using @ operator:\")\n",
        "print(matrix_product_alt)"
      ]
    },
    {
      "cell_type": "markdown",
      "metadata": {
        "id": "SbWa_jgQrfQD"
      },
      "source": [
        "The **eigenvalues** and **eigenvectors** of a matrix are important in many areas of linear algebra, including solving systems of linear equations. In NumPy, you can use `np.linalg.eig()` to obtain the eigenvalues and eigenvectors of a matrix:"
      ]
    },
    {
      "cell_type": "code",
      "execution_count": null,
      "metadata": {
        "tags": [],
        "id": "0v7b4hr2rfQD"
      },
      "outputs": [],
      "source": [
        "# Example matrix (2D array)\n",
        "m = np.array([[2, 1, 3],\n",
        "              [1, 4, 2],\n",
        "              [3, 2, 5]])\n",
        "\n",
        "# Find eigenvalues and eigenvectors of m\n",
        "eigenvalues, eigenvectors = np.linalg.eig(m)\n",
        "\n",
        "print(\"Eigenvalues of m:\", eigenvalues)\n",
        "print(\"Eigenvectors of m:\")\n",
        "print(eigenvectors)"
      ]
    },
    {
      "cell_type": "markdown",
      "metadata": {
        "id": "slYA2QNFrfQD"
      },
      "source": [
        "The *i*th  row of the array `eigenvectors` contains the eigenvector correspoinding to the *i*th eigenvalue. We can separately print each eigenvector along with the corresponding eigenvalue using a `for` loop as follows:"
      ]
    },
    {
      "cell_type": "code",
      "execution_count": null,
      "metadata": {
        "tags": [],
        "id": "eWu0meoJrfQD"
      },
      "outputs": [],
      "source": [
        "for eigenvalue, eigenvector in zip(eigenvalues, eigenvectors):\n",
        "    print(f'eigenvalue: {eigenvalue:.3f}, corresponding eigenvector: {eigenvector:}')"
      ]
    },
    {
      "cell_type": "markdown",
      "metadata": {
        "id": "TTj8-1aPrfQD"
      },
      "source": [
        "Here are a few more linear algebaic functions avaialble in NumPy:"
      ]
    },
    {
      "cell_type": "code",
      "execution_count": null,
      "metadata": {
        "tags": [],
        "id": "CK808eWvrfQD"
      },
      "outputs": [],
      "source": [
        "# Rank of a matrix\n",
        "rank = np.linalg.matrix_rank(m)\n",
        "\n",
        "print(f\"Rank of m = {rank}\")\n",
        "\n",
        "\n",
        "print()  # Print a blank line between outputs\n",
        "\n",
        "\n",
        "# Trace of a matrix\n",
        "trace = np.trace(m)\n",
        "\n",
        "print(f\"Trace of m = {trace}\")\n",
        "\n",
        "\n",
        "print()  # Print a blank line between outputs\n",
        "\n",
        "\n",
        "# Transpose of a matrix\n",
        "m1_transpose = m1.T\n",
        "\n",
        "print(\"Transpose of m1:\")\n",
        "print(m1_transpose)\n",
        "\n",
        "\n",
        "print()  # Print a blank line between outputs\n",
        "\n",
        "\n",
        "# Determinant of a matrix\n",
        "determinant = np.linalg.det(m)\n",
        "\n",
        "print(f\"Determinant of m = {determinant:.3f}\")\n",
        "\n",
        "\n",
        "print()  # Print a blank line between outputs\n",
        "\n",
        "\n",
        "# Inverse of a matrix\n",
        "inverse = np.linalg.inv(m)\n",
        "\n",
        "print(\"Inverse of m:\")\n",
        "print(inverse)"
      ]
    },
    {
      "cell_type": "markdown",
      "metadata": {
        "id": "tSFpJ23qrfQD"
      },
      "source": [
        "## 5. Generating Random Numbers\n",
        "\n",
        "Random numbers are essential for certain numerical methods, such as Monte Carlo simulations. The `numpy.random` module offers a variety of functions to generate random numbers from different distributions.\n",
        "\n",
        "### Uniform random numbers\n",
        "\n",
        "`numpy.random.rand()` generates random numbers uniformly distributed over the interval $[0, 1)$. See the following examples:"
      ]
    },
    {
      "cell_type": "code",
      "execution_count": null,
      "metadata": {
        "tags": [],
        "id": "O9Uf9SdErfQD"
      },
      "outputs": [],
      "source": [
        "# Generate a single uniform random number over the interval [0, 1)\n",
        "\n",
        "rand_num = np.random.rand()\n",
        "\n",
        "rand_num"
      ]
    },
    {
      "cell_type": "code",
      "execution_count": null,
      "metadata": {
        "tags": [],
        "id": "4FEydcEdrfQD"
      },
      "outputs": [],
      "source": [
        "# Generate a 1D array of 5 uniform random numbers over the interval [0, 1)\n",
        "rand_nums = np.random.rand(5)\n",
        "\n",
        "rand_nums"
      ]
    },
    {
      "cell_type": "code",
      "execution_count": null,
      "metadata": {
        "tags": [],
        "id": "MqPsnsgvrfQD"
      },
      "outputs": [],
      "source": [
        "# Generate uniform random numbers over [0, 1) in the form of an array with the shape (2, 3)\n",
        "rand_nums_arr = np.random.rand(2, 3)\n",
        "\n",
        "rand_nums_arr"
      ]
    },
    {
      "cell_type": "markdown",
      "metadata": {
        "id": "5y915x58rfQD"
      },
      "source": [
        "If you want random numbers uniformly distributed over an arbitrary interval $[a, b)$, you can do the following:"
      ]
    },
    {
      "cell_type": "code",
      "execution_count": null,
      "metadata": {
        "tags": [],
        "id": "axuSc88RrfQD"
      },
      "outputs": [],
      "source": [
        "# Generate 10 uniform random numbers over the interval [a, b).\n",
        "# Here, we choose a = -1 and b = 1 as an example.\n",
        "\n",
        "a = -1\n",
        "b = 1\n",
        "\n",
        "rand_nums = (b - a)*np.random.rand(10) + a\n",
        "\n",
        "rand_nums"
      ]
    },
    {
      "cell_type": "markdown",
      "metadata": {
        "id": "9Lun3jltrfQD"
      },
      "source": [
        "In this example, the expression `(b - a)*np.random.rand(10) + a` maps the random numbers generated by `np.random.rand(10)` from the default interval $[0, 1)$ to the desired interval $[a, b)$.\n",
        "\n",
        "Alternatively, you can use `numpy.random.uniform(low, high, size)` to directly generate uniform random numbers in the interval $[\\text{low}, \\text{high})$. The optional parameter `size` can either be an integer representing the number of random numbers to generate or a tuple representing the shape of the array of random numbers."
      ]
    },
    {
      "cell_type": "code",
      "execution_count": null,
      "metadata": {
        "tags": [],
        "id": "NX3uOXeYrfQD"
      },
      "outputs": [],
      "source": [
        "# Generate 10 uniform random numbers over the interval [a, b).\n",
        "# Here, we choose a = -1 and b = 1 as an example.\n",
        "\n",
        "a = -1\n",
        "b = 1\n",
        "\n",
        "rand_nums = np.random.uniform(a, b, size=10)\n",
        "\n",
        "rand_nums"
      ]
    },
    {
      "cell_type": "markdown",
      "metadata": {
        "id": "kHRKd3gfrfQD"
      },
      "source": [
        "### Gaussian (normal) random numbers\n",
        "\n",
        "`numpy.random.randn()` generates random numbers from the **standard normal distribution**, which is the normal (Gaussian) distribution with a mean of 0 and a standard deviation of 1."
      ]
    },
    {
      "cell_type": "code",
      "execution_count": null,
      "metadata": {
        "tags": [],
        "id": "2eQFR7hVrfQD"
      },
      "outputs": [],
      "source": [
        "# Generate a single random number from the standard normal distribution\n",
        "rand_num = np.random.randn()\n",
        "\n",
        "print(rand_num)\n",
        "\n",
        "\n",
        "print()  # Print a blank line between outputs\n",
        "\n",
        "\n",
        "# Generate a 1D array of 5 random numbers from the standard normal distribution\n",
        "rand_nums = np.random.randn(5)\n",
        "\n",
        "print(rand_nums)\n",
        "\n",
        "\n",
        "print()  # Print a blank line between outputs\n",
        "\n",
        "\n",
        "# Generate random numbers from the standard normal distribution in the form of an array with the shape (2, 3)\n",
        "rand_nums_arr = np.random.randn(2, 3)\n",
        "\n",
        "print(rand_nums_arr)"
      ]
    },
    {
      "cell_type": "markdown",
      "metadata": {
        "id": "rShK0GKmrfQD"
      },
      "source": [
        "If you want random numbers from a normal (Gaussian) distribution with a specific mean `mu` and standard deviation `sigma`, you can achieve this by scaling the output of `np.random.randn()` by `sigma` and shifting it by `mu`, as shown below:"
      ]
    },
    {
      "cell_type": "code",
      "execution_count": null,
      "metadata": {
        "tags": [],
        "id": "z8A9pFUwrfQD"
      },
      "outputs": [],
      "source": [
        "# Generate 10 random numbers from the normal distribution with mean \"mu\" and standard deviation \"sigma\"\n",
        "\n",
        "mu = 2.0\n",
        "sigma = 5.0\n",
        "\n",
        "rand_nums = sigma*np.random.randn(10) + mu\n",
        "\n",
        "rand_nums"
      ]
    },
    {
      "cell_type": "markdown",
      "metadata": {
        "id": "VXUzaFfXrfQD"
      },
      "source": [
        "### Random integers\n",
        "\n",
        "The `numpy.random.randint(low, high, size)` function generates random integers from the discrete uniform distribution over the interval $[\\text{low}, \\text{high})$. The optional parameter `size` can either be an integer representing the number of random numbers to generate or a tuple representing the shape of the array of random integers."
      ]
    },
    {
      "cell_type": "code",
      "execution_count": null,
      "metadata": {
        "tags": [],
        "id": "H_qUeWpprfQE"
      },
      "outputs": [],
      "source": [
        "# Generate a single random integer between 0 and 9\n",
        "random_int = np.random.randint(0, 10)\n",
        "\n",
        "print(random_int)\n",
        "\n",
        "\n",
        "print()  # Print a blank line between outputs\n",
        "\n",
        "\n",
        "# Generate a 1D array of 10 random integers between 0 and 100\n",
        "random_ints = np.random.randint(0, 101, size=10)\n",
        "\n",
        "print(random_ints)"
      ]
    },
    {
      "cell_type": "markdown",
      "metadata": {
        "id": "KvwTgyRmrfQE"
      },
      "source": [
        "### Generating random samples from a given array/list\n",
        "\n",
        "`numpy.random.choice(a, size)` can be used to randomly sample elements from a given array (or list) `a`. The optional parameter `size` can either be an integer representing the number of random elements to sample or a tuple representing the shape of the array of random samples."
      ]
    },
    {
      "cell_type": "code",
      "execution_count": null,
      "metadata": {
        "tags": [],
        "id": "cMEr4Xj-rfQE"
      },
      "outputs": [],
      "source": [
        "# The array/list from which the random elements will be sampled\n",
        "a = [-1.2, 5.0, -10.9, 20.5]\n",
        "\n",
        "# Randomly select a single element from \"a\"\n",
        "random_element = np.random.choice(a)\n",
        "\n",
        "print(random_element)\n",
        "\n",
        "\n",
        "print()  # Print a blank line between outputs\n",
        "\n",
        "\n",
        "# Randomly select 10 elements from \"a\"\n",
        "random_elements = np.random.choice(a, size=10)\n",
        "\n",
        "print(random_elements)"
      ]
    },
    {
      "cell_type": "markdown",
      "metadata": {
        "id": "1WG_UJdUrfQE"
      },
      "source": [
        "### Setting a random seed\n",
        "\n",
        "When a computer generates random numbers, they are *not* entirely random. Instead, they are produced by an algorithm that follows some deterministic sequence. This is why we call them **pseudorandom numbers** — they appear random, but they are generated according to a specific sequence.\n",
        "\n",
        "Because of this deterministic nature, if we start with the same initial value — known as a **seed** — the sequence of numbers generated will always be the same. In NumPy, you can set the seed for the random number generator using `np.random.seed(seed)`, where the parameter `seed` is an integer. Every time you run the code with the same seed value, you will get the same sequence of random numbers. This is particularly useful for debugging your code or when you want others to reproduce your results exactly."
      ]
    },
    {
      "cell_type": "code",
      "execution_count": null,
      "metadata": {
        "tags": [],
        "id": "obfmd_4krfQE"
      },
      "outputs": [],
      "source": [
        "# Choose an integer value as the seed\n",
        "rand_seed = 42\n",
        "\n",
        "# Set the seed\n",
        "np.random.seed(rand_seed)\n",
        "\n",
        "# Generate 20 random numbers\n",
        "random_numbers = np.random.rand(20)\n",
        "\n",
        "print(random_numbers)"
      ]
    },
    {
      "cell_type": "markdown",
      "metadata": {
        "id": "Uifs9qJkrfQE"
      },
      "source": [
        "If you execute the above code cell multiple times, you will observe that the array of random numbers generated is always the same. However, if you comment out the line `np.random.seed(rand_seed)`, the generated random numbers will be different each time you rerun the code cell."
      ]
    }
  ],
  "metadata": {
    "kernelspec": {
      "display_name": "Python 3 (ipykernel)",
      "language": "python",
      "name": "python3"
    },
    "language_info": {
      "codemirror_mode": {
        "name": "ipython",
        "version": 3
      },
      "file_extension": ".py",
      "mimetype": "text/x-python",
      "name": "python",
      "nbconvert_exporter": "python",
      "pygments_lexer": "ipython3",
      "version": "3.10.11"
    },
    "colab": {
      "provenance": [],
      "include_colab_link": true
    }
  },
  "nbformat": 4,
  "nbformat_minor": 0
}