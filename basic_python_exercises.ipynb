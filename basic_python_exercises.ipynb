{
  "nbformat": 4,
  "nbformat_minor": 0,
  "metadata": {
    "colab": {
      "provenance": [],
      "authorship_tag": "ABX9TyOHhPxluerWobVHMwyNVMYk",
      "include_colab_link": true
    },
    "kernelspec": {
      "name": "python3",
      "display_name": "Python 3"
    },
    "language_info": {
      "name": "python"
    }
  },
  "cells": [
    {
      "cell_type": "markdown",
      "metadata": {
        "id": "view-in-github",
        "colab_type": "text"
      },
      "source": [
        "<a href=\"https://colab.research.google.com/github/dilinanp/computational-physics/blob/main/basic_python_exercises.ipynb\" target=\"_parent\"><img src=\"https://colab.research.google.com/assets/colab-badge.svg\" alt=\"Open In Colab\"/></a>"
      ]
    },
    {
      "cell_type": "markdown",
      "source": [
        "**Exercise 1:** Given the variable $x$, evaluate the expression\n",
        "\n",
        "$y = x^2 - 5x + 3$"
      ],
      "metadata": {
        "id": "R57jCs2JrTp9"
      }
    },
    {
      "cell_type": "code",
      "source": [
        "x = 2\n",
        "\n",
        "# Complete your code"
      ],
      "metadata": {
        "id": "s6idPc5rrODX"
      },
      "execution_count": null,
      "outputs": []
    },
    {
      "cell_type": "markdown",
      "source": [
        "**Exercise 2:** Given two variables $x$ and $y$, evaluate the expression\n",
        "\n",
        "$z = 6x^5 + 3y^4 + x^2 y^2 - 5xy - 8$"
      ],
      "metadata": {
        "id": "q2uWkkEkofud"
      }
    },
    {
      "cell_type": "code",
      "execution_count": null,
      "metadata": {
        "id": "-hEQ8v4Qod9u"
      },
      "outputs": [],
      "source": [
        "x = 5.8\n",
        "y = 8.1\n",
        "\n",
        "# Complete your code"
      ]
    },
    {
      "cell_type": "markdown",
      "source": [
        "**Exercise 3:** Given two variables $x$ and $y$, evaluate the expression\n",
        "\n",
        "$z = \\frac{x^2 - y}{x+y^2} - 8xy$"
      ],
      "metadata": {
        "id": "CZ7VAPRhzuxS"
      }
    },
    {
      "cell_type": "code",
      "source": [
        "x = 1.5\n",
        "y = 2.3\n",
        "\n",
        "# Complete your code"
      ],
      "metadata": {
        "id": "lbrUSdMQqaWD"
      },
      "execution_count": null,
      "outputs": []
    },
    {
      "cell_type": "markdown",
      "source": [
        "**Exercise 4:** The position of a point in two-dimensional space is given to you in polar coordinates $r$, $\\theta$. Convert those values to Cartesian coordinates using the standard formulas:\n",
        "\n",
        "$x = r\\cos \\theta$\n",
        "\n",
        "$y = r\\sin\\theta$"
      ],
      "metadata": {
        "id": "QQiCa0vZ0-bF"
      }
    },
    {
      "cell_type": "code",
      "source": [
        "r = 2.5      # in meters\n",
        "theta = 65   # in degrees\n",
        "\n",
        "# Complete your code"
      ],
      "metadata": {
        "id": "d--yCru50YlF"
      },
      "execution_count": null,
      "outputs": []
    },
    {
      "cell_type": "markdown",
      "source": [
        "**Exercise 5:** Given an integer variable `n`, check if it is positive, negative or zero.\n",
        "\n",
        "---\n",
        "\n",
        "\n",
        "\n",
        "\n",
        "\n"
      ],
      "metadata": {
        "id": "jOxnc80b5oI7"
      }
    },
    {
      "cell_type": "code",
      "source": [
        "n = -8\n",
        "\n",
        "# Complete your code"
      ],
      "metadata": {
        "id": "m7QEsQeL-qMj"
      },
      "execution_count": null,
      "outputs": []
    },
    {
      "cell_type": "markdown",
      "source": [
        "**Exercise 6:** Given an integer variable `n`, check if it is an even integer or an odd integer."
      ],
      "metadata": {
        "id": "OStf6U3SFtCe"
      }
    },
    {
      "cell_type": "code",
      "source": [
        "n = 7\n",
        "\n",
        "# Complete your code"
      ],
      "metadata": {
        "id": "dOTcqJItF4qx"
      },
      "execution_count": null,
      "outputs": []
    },
    {
      "cell_type": "markdown",
      "source": [
        "**Exercise 7:** Given a list of values for a variable $x$, determine the  corresponding $y$ values according to the equation $y = 3x^2 - 2$ and store them in a separate list."
      ],
      "metadata": {
        "id": "q1J88b2o_pyP"
      }
    },
    {
      "cell_type": "code",
      "source": [
        "x_values = [5.8, -2.3, 8.5, 2.1, -9.9, 10.1, -11.6]  # The list of x values\n",
        "\n",
        "# Complete your code"
      ],
      "metadata": {
        "id": "m54BuT7i-_1w"
      },
      "execution_count": null,
      "outputs": []
    },
    {
      "cell_type": "markdown",
      "source": [
        "**Exercise 8:** Suppose we have the (*x*, *y*) Cartesian coordinates of five points in two-dimensional space. The *x* and *y* coordinates are stored in two separate lists: `x_values` and `y_values`. Determine the distance from the origin $(0,0)$ to each of those points, and store them in a separate list `distances`."
      ],
      "metadata": {
        "id": "QGIxh36_GeoZ"
      }
    },
    {
      "cell_type": "code",
      "source": [
        "x_coords = [1, 2, 3, 4, 5]    # List of x coordinates\n",
        "y_coords = [1, 4, 9, 16, 25]  # List of y coordinates\n",
        "\n",
        "# Complete your code"
      ],
      "metadata": {
        "id": "1Kwv-vJ3Hr7P"
      },
      "execution_count": null,
      "outputs": []
    },
    {
      "cell_type": "markdown",
      "source": [
        "**Exercise 9:** Use a `for` loop to print all integers from 7 to 25 (i.e., 7, 8, ..., 24, 25)"
      ],
      "metadata": {
        "id": "C4dsUrbFD7Oz"
      }
    },
    {
      "cell_type": "code",
      "source": [
        "# Complete your code"
      ],
      "metadata": {
        "id": "Bt6zJslrAv2v"
      },
      "execution_count": null,
      "outputs": []
    },
    {
      "cell_type": "markdown",
      "source": [
        "**Exercise 10:** Use a `for` loop to print all **even** integers from 2 to 40 (i.e., 2, 4, 6, ..., 38, 40)\n",
        "\n"
      ],
      "metadata": {
        "id": "IWMP9ou8FSwG"
      }
    },
    {
      "cell_type": "code",
      "source": [
        "# Complete your code"
      ],
      "metadata": {
        "id": "bEF0bb6KEtkv"
      },
      "execution_count": null,
      "outputs": []
    },
    {
      "cell_type": "markdown",
      "source": [
        "**Exercise 11:** Using a `for` loop, determine the sum of **even** integers from 2 to 40 (i.e., 2, 4, 6, ..., 38, 40)\n",
        "\n"
      ],
      "metadata": {
        "id": "Em3KJmIwJhp_"
      }
    },
    {
      "cell_type": "code",
      "source": [
        "# Complete your code"
      ],
      "metadata": {
        "id": "e1hdxr8yFoUK"
      },
      "execution_count": null,
      "outputs": []
    },
    {
      "cell_type": "markdown",
      "source": [
        "**Exercise 12:** Write your own code to determine $x^n$, where $x$ is a floating-point (real) number and $n$ is a non-negative integer."
      ],
      "metadata": {
        "id": "RBreW2akKby8"
      }
    },
    {
      "cell_type": "code",
      "source": [
        "x = 2.0\n",
        "n = 3\n",
        "\n",
        "\n",
        "# Complete your code"
      ],
      "metadata": {
        "id": "WTpIO4e2J8cd"
      },
      "execution_count": null,
      "outputs": []
    },
    {
      "cell_type": "markdown",
      "source": [
        "**Exercise 13:** Extend your previous code to determine $x^n$ when $n$ is *any* integer (either positive, negative, or zero)."
      ],
      "metadata": {
        "id": "6DEMhclkNlzx"
      }
    },
    {
      "cell_type": "code",
      "source": [
        "x = 2.0\n",
        "n = -3\n",
        "\n",
        "\n",
        "# Complete your code"
      ],
      "metadata": {
        "id": "bF9wIzwqMIqY"
      },
      "execution_count": null,
      "outputs": []
    },
    {
      "cell_type": "markdown",
      "source": [
        "**Exercise 14:** Write a function that returns the area of a circle when the radius is passed as an argument.\n",
        "\n",
        "Then, use this function to determine the area of circles with radii $r =1.0$ and $r = 2.5$."
      ],
      "metadata": {
        "id": "L_rluWZuxBwS"
      }
    },
    {
      "cell_type": "code",
      "source": [
        "# Define your function here"
      ],
      "metadata": {
        "id": "J4H1w3bNxcpU"
      },
      "execution_count": null,
      "outputs": []
    },
    {
      "cell_type": "code",
      "source": [
        "# Call your function"
      ],
      "metadata": {
        "id": "SPXl9TJX0AN_"
      },
      "execution_count": null,
      "outputs": []
    },
    {
      "cell_type": "markdown",
      "source": [
        "**Exercise 15:** Write a function that returns $x^n$, where $x$ is a floating-point (real) number and $n$ is a non-negative integer, when $x$ and $n$ are passed as arguments.\n",
        "\n",
        "Then, use this function to determine $5^0$, $2^3$, and $3.4^8$."
      ],
      "metadata": {
        "id": "l4u8BQH01l1n"
      }
    },
    {
      "cell_type": "code",
      "source": [
        "# Define your function here"
      ],
      "metadata": {
        "id": "7wZrbDxQzXdv"
      },
      "execution_count": null,
      "outputs": []
    },
    {
      "cell_type": "code",
      "source": [
        "# Call your function"
      ],
      "metadata": {
        "id": "UQtlyew40GfQ"
      },
      "execution_count": null,
      "outputs": []
    },
    {
      "cell_type": "markdown",
      "source": [
        "**Exercise 16:** Write a **recursive** function that returns $x^n$, where $x$ is a floating-point (real) number and $n$ is a non-negative integer, when $x$ and $n$ are passed as arguments.\n",
        "\n",
        "Then, use this function to determine $5^0$, $2^3$, and $3.4^8$."
      ],
      "metadata": {
        "id": "3hLyv8In4H9_"
      }
    },
    {
      "cell_type": "code",
      "source": [
        "# Define your function here"
      ],
      "metadata": {
        "id": "drMVk7uczZgS"
      },
      "execution_count": null,
      "outputs": []
    },
    {
      "cell_type": "code",
      "source": [
        "# Call your function"
      ],
      "metadata": {
        "id": "k8WKlR8Z4xJN"
      },
      "execution_count": null,
      "outputs": []
    }
  ]
}