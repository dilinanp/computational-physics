{
  "cells": [
    {
      "cell_type": "markdown",
      "metadata": {
        "id": "view-in-github",
        "colab_type": "text"
      },
      "source": [
        "<a href=\"https://colab.research.google.com/github/dilinanp/computational-physics/blob/main/python_fundamentals_part_II.ipynb\" target=\"_parent\"><img src=\"https://colab.research.google.com/assets/colab-badge.svg\" alt=\"Open In Colab\"/></a>"
      ]
    },
    {
      "cell_type": "markdown",
      "id": "ce3553cf-1036-46d7-bd8a-8baba711eb61",
      "metadata": {
        "tags": [],
        "id": "ce3553cf-1036-46d7-bd8a-8baba711eb61"
      },
      "source": [
        "# Python Language Fundamentals - Part II\n",
        "\n",
        "## Introduction\n",
        "\n",
        "Welcome to Part II of the tutorial on fundamentals of the Python language. This tutorial will build upon what we learned in Part I and introduce more advanced topics, including control flow statements, loops, and functions. By the end of this tutorial, you should be comfortable writing more complex and modular Python code.\n",
        "\n",
        "## Table of Contents\n",
        "\n",
        "1. Conditional Statements\n",
        "2. Loops\n",
        "3. User-Defined Functions"
      ]
    },
    {
      "cell_type": "markdown",
      "id": "5210518a-0bf8-483e-b9e0-88b71aa43705",
      "metadata": {
        "id": "5210518a-0bf8-483e-b9e0-88b71aa43705"
      },
      "source": [
        "---\n",
        "\n",
        "## 1. Conditional Statements\n",
        "\n",
        "Conditional statements allow you to control the flow of your program based on certain conditions. They enable your program to make decisions and execute different blocks of code accordingly.\n",
        "\n",
        "### `if` statement\n",
        "\n",
        "An `if` statement lets you execute a block of code only if a condition is true. If the condition is false, the block of code will be skipped.\n",
        "\n",
        "The syntax for the `if` statemet in Python is:\n",
        "\n",
        "```python\n",
        "if condition:\n",
        "    # Code block to execute if the condition is true\n",
        "```\n",
        "\n",
        "See the example code below."
      ]
    },
    {
      "cell_type": "code",
      "execution_count": null,
      "id": "c04b796b-6cc6-49ea-84e9-7a45ade419b3",
      "metadata": {
        "tags": [],
        "id": "c04b796b-6cc6-49ea-84e9-7a45ade419b3"
      },
      "outputs": [],
      "source": [
        "x = 5\n",
        "y = 3\n",
        "\n",
        "if x > y:\n",
        "    print(\"x is greater than y\")\n",
        "    print(\"Ok, bye!\")"
      ]
    },
    {
      "cell_type": "markdown",
      "id": "83810f95-8bb3-4d42-b99e-b9c9fb7bcba0",
      "metadata": {
        "id": "83810f95-8bb3-4d42-b99e-b9c9fb7bcba0"
      },
      "source": [
        "In this code:\n",
        "- `if x > y:` checks whether `x` is greater than `y`.\n",
        "- If the condition `x > y` is true, the code inside the `if` block (indented) will be executed, printing \"x is greater than y\", followed by \"Ok, bye!\".\n",
        "\n",
        "**NOTE**: In Python, a \"code block\" is a group of statements that are executed together. A code block is defined by how it is indented with respect to the surrounding code. In the example above, the two lines under the `if` statement are indented, meaning they are part of the `if` block and will only be executed if the condition `x > y` is true. Proper indentation is crucial in Python; incorrect indentation will result in an `IndentationError`. Using 4 spaces for each indentation level is a common practice.\n",
        "\n",
        "### Comparison operators in Python\n",
        "\n",
        "In the example above, the symbol `>` is called a *comparison operator* since it is used to compare two values. Here's a list of most commonly used comparison operators:\n",
        "\n",
        "- `>`: Greater than\n",
        "- `<`: Less than\n",
        "- `>=`: Greater than or equal to\n",
        "- `<=`: Less than or equal to\n",
        "- `==`: Equal to\n",
        "- `!=`: Not equal to\n",
        "\n",
        "### `if-else` statement\n",
        "\n",
        "An `if-else` statement lets you execute one block of code if the condition is true and another block of code if the condition is false.\n",
        "\n",
        "The syntax for the `if-else` statemet in Python is:\n",
        "\n",
        "```python\n",
        "if condition:\n",
        "    # Code block to execute if the condition is true\n",
        "else:\n",
        "    # Code block to execute if the condition is false\n",
        "```\n",
        "\n",
        "See the example code below."
      ]
    },
    {
      "cell_type": "code",
      "execution_count": null,
      "id": "685ef245-a4a1-40c0-921f-3df85e381704",
      "metadata": {
        "tags": [],
        "id": "685ef245-a4a1-40c0-921f-3df85e381704"
      },
      "outputs": [],
      "source": [
        "age = 16\n",
        "\n",
        "if age >= 17:\n",
        "    print('You may enter the movie theater.')\n",
        "    print('Enjoy!')\n",
        "else:\n",
        "    print('Sorry, you do not get to see Deadpool and Wolverine.')\n",
        "    print('You may watch Twisters instead.')"
      ]
    },
    {
      "cell_type": "markdown",
      "id": "766c32cc-d5d2-452f-807e-c40e514b6367",
      "metadata": {
        "id": "766c32cc-d5d2-452f-807e-c40e514b6367"
      },
      "source": [
        "In this code:\n",
        "- If `age >= 17` is true, it prints \"You may enter the movie theater.\", followed by \"Enjoy!\".\n",
        "- If `age >= 17` is false (that is, if `age` is less than 17), it prints \"Sorry, you do not ...\", followed by \"You may watch ...\".\n",
        "\n",
        "### `if-elif-else` statement\n",
        "\n",
        "An `if-elif-else` statement allows you to check multiple conditions. The first condition that evaluates to true will have its block executed, and the rest will be skipped. Here, `elif` is a shorthand notation for the phrase \"else if\".\n",
        "\n",
        "The syntax for the `if-elif-else` statement in Python is:\n",
        "\n",
        "```python\n",
        "if condition1:\n",
        "    # Code block to execute if condition1 is true\n",
        "elif condition2:\n",
        "    # Code block to execute if condition1 is false and condition2 is true\n",
        "else:\n",
        "    # Code block to execute if both condition1 and condition2 are false\n",
        "```\n",
        "\n",
        "See the example code below."
      ]
    },
    {
      "cell_type": "code",
      "execution_count": null,
      "id": "0157efb7-100c-4c8d-a0ec-c2041c111895",
      "metadata": {
        "tags": [],
        "id": "0157efb7-100c-4c8d-a0ec-c2041c111895"
      },
      "outputs": [],
      "source": [
        "x = -5\n",
        "\n",
        "if x > 0:\n",
        "    print(\"x is positive\")\n",
        "elif x < 0:\n",
        "    print(\"x is negative\")\n",
        "else:\n",
        "    print(\"x is equal to 0\")"
      ]
    },
    {
      "cell_type": "markdown",
      "id": "d558632f-fc68-402a-b5c9-bc098acea549",
      "metadata": {
        "id": "d558632f-fc68-402a-b5c9-bc098acea549"
      },
      "source": [
        "In this code:\n",
        "- `if x > 0:` checks if `x` is greater than 0. If true, it prints \"x is positive\".\n",
        "- If the first condition is false, `elif x < 0:` checks if `x` is less than `0`. If true, it prints \"x is negative\".\n",
        "- If both conditions are false, the `else` block executes, printing \"x is equal to 0\".\n",
        "\n",
        "You can have as many `elif` statements as needed to check multiple conditions. Here's a code example that assigns a letter grade based on a numeric grade:"
      ]
    },
    {
      "cell_type": "code",
      "execution_count": null,
      "id": "99db6cfa-5105-4cd5-9ae6-7bcd89257737",
      "metadata": {
        "tags": [],
        "id": "99db6cfa-5105-4cd5-9ae6-7bcd89257737"
      },
      "outputs": [],
      "source": [
        "numeric_grade = 78\n",
        "\n",
        "if numeric_grade >= 90:\n",
        "    letter_grade = 'A'\n",
        "elif numeric_grade >= 80:\n",
        "    letter_grade = 'B'\n",
        "elif numeric_grade >= 70:\n",
        "    letter_grade = 'C'\n",
        "elif numeric_grade >= 60:\n",
        "    letter_grade = 'D'\n",
        "else:\n",
        "    letter_grade = 'F'\n",
        "\n",
        "print(f'Your letter grade is {letter_grade}')"
      ]
    },
    {
      "cell_type": "markdown",
      "id": "33b02345-4ab4-4952-8345-a634f87aae8f",
      "metadata": {
        "id": "33b02345-4ab4-4952-8345-a634f87aae8f"
      },
      "source": [
        "In this code:\n",
        "\n",
        "- The `if-elif-else` structure evaluates the `numeric_grade` to determine the appropriate `letter_grade`.\n",
        "- The conditions check ranges in descending order: 90 or above for 'A', 80 or above for 'B', 70 or above for 'C', 60 or above for 'D', and 'F' if none of these conditions are met.\n",
        "\n",
        "\n",
        "Let's check out an example that uses the \"equal to\" operator `==`."
      ]
    },
    {
      "cell_type": "code",
      "execution_count": null,
      "id": "6c6c18e0-63d4-4f85-9303-50161ef76207",
      "metadata": {
        "tags": [],
        "id": "6c6c18e0-63d4-4f85-9303-50161ef76207"
      },
      "outputs": [],
      "source": [
        "predefined_username = \"admin\"\n",
        "entered_username = \"guest\"\n",
        "\n",
        "if entered_username == predefined_username:\n",
        "    print(\"Access granted\")\n",
        "else:\n",
        "    print(\"Access denied\")"
      ]
    },
    {
      "cell_type": "markdown",
      "id": "cb6c6389-3b2d-4d1b-8110-ea6073f8211c",
      "metadata": {
        "id": "cb6c6389-3b2d-4d1b-8110-ea6073f8211c"
      },
      "source": [
        "The condition `entered_username == predefined_username` evaluates to `True` if the entered username is equal to the predefined username \"admin\", upon which \"Access granted\" will be printed. Otherwise, the condition evaluates to `False`, and \"Access denied\" will be printed.\n",
        "\n",
        "We can rewrite the above code using the \"not equal to\" operator `!=` instead of `==` as follows. Note that we have swapped the two `print()` statements as the control flow has now changed."
      ]
    },
    {
      "cell_type": "code",
      "execution_count": null,
      "id": "7045091d-fab3-4dec-832d-cbabe6670913",
      "metadata": {
        "tags": [],
        "id": "7045091d-fab3-4dec-832d-cbabe6670913"
      },
      "outputs": [],
      "source": [
        "predefined_username = \"admin\"\n",
        "entered_username = \"guest\"\n",
        "\n",
        "if entered_username != predefined_username:\n",
        "    print(\"Access denied\")\n",
        "else:\n",
        "    print(\"Access granted\")"
      ]
    },
    {
      "cell_type": "markdown",
      "id": "b3f3e247-6038-4dec-bf25-58383550a855",
      "metadata": {
        "id": "b3f3e247-6038-4dec-bf25-58383550a855"
      },
      "source": [
        "Here, the condition `entered_username != predefined_username` evaluates to `True` if the entered username is **NOT** equal to the predifined username \"admin\", upon which \"Access denied\" will be printed.\n",
        "\n",
        "### Logical operators\n",
        "\n",
        "Logical operators allow you to combine multiple conditions. Here are the common logical operators:\n",
        "- `and`: All conditions must be true\n",
        "- `or`: At least one condition must be true\n",
        "- `not`: Reverses the truth value of a condition\n",
        "\n",
        "Here's a simple example of using logical operators. This code checks if the numeric grade lies within the allowable range of values [0, 100]."
      ]
    },
    {
      "cell_type": "code",
      "execution_count": null,
      "id": "29c685b4-e4ab-40e4-bf23-1ef78fcf9f96",
      "metadata": {
        "tags": [],
        "id": "29c685b4-e4ab-40e4-bf23-1ef78fcf9f96"
      },
      "outputs": [],
      "source": [
        "numeric_grade = 105\n",
        "\n",
        "if numeric_grade < 0 or numeric_grade > 100:\n",
        "    print('Invalid numeric grade. The grade must be between 0 and 100.')\n",
        "else:\n",
        "    print('Valid numeric grade.')"
      ]
    },
    {
      "cell_type": "markdown",
      "id": "6bd35bb1-b3e4-4561-a395-ea55359f590a",
      "metadata": {
        "id": "6bd35bb1-b3e4-4561-a395-ea55359f590a"
      },
      "source": [
        "In the above code, the \"Invalid numeric grade\" message is printed if one of the conditions is true (either `numeric_grade < 0` or `numeric_grade > 100`).\n",
        "\n",
        "We can rewrite the above code using the `and` operator as follows. Note that the two `print()` statements are switched as the control flow has changed."
      ]
    },
    {
      "cell_type": "code",
      "execution_count": null,
      "id": "0b3db59c-bc19-4928-bd90-d48d814f8fe2",
      "metadata": {
        "tags": [],
        "id": "0b3db59c-bc19-4928-bd90-d48d814f8fe2"
      },
      "outputs": [],
      "source": [
        "numeric_grade = 105\n",
        "\n",
        "if numeric_grade >= 0 and numeric_grade <= 100:\n",
        "    print('Valid numeric grade.')\n",
        "else:\n",
        "    print('Invalid numeric grade. The grade must be between 0 and 100.')"
      ]
    },
    {
      "cell_type": "markdown",
      "id": "9faf24e6-89b2-431c-8e6c-3b11b44af5eb",
      "metadata": {
        "id": "9faf24e6-89b2-431c-8e6c-3b11b44af5eb"
      },
      "source": [
        "Here, the \"Valid numeric grade\" message is printed if both conditions, `numeric_grade >= 0` **and** `numeric_grade <= 100`, are true.\n",
        "\n",
        "Let's consider another example. Imagine you are checking whether a student is eligible for a scholarship. Suppose that a student is eligible if they meet the following criteria:\n",
        "1. The student's GPA must be at least 3.5.\n",
        "2. The student must **either** have participated in at least 3 extracurricular activities **or** have completed at least 50 hours of volunteer work.\n",
        "3. The student must not be on academic probation."
      ]
    },
    {
      "cell_type": "code",
      "execution_count": null,
      "id": "5f26daf5-6259-49a4-9e37-5a02e1fd13ba",
      "metadata": {
        "tags": [],
        "id": "5f26daf5-6259-49a4-9e37-5a02e1fd13ba"
      },
      "outputs": [],
      "source": [
        "gpa = 3.6\n",
        "extracurricular_activities = 4\n",
        "volunteer_hours = 40\n",
        "on_academic_probation = False\n",
        "\n",
        "if gpa >= 3.5 and (extracurricular_activities >= 3 or volunteer_hours >= 50) and not on_academic_probation:\n",
        "    print(\"Eligible for scholarship\")\n",
        "else:\n",
        "    print(\"Not eligible for scholarship\")"
      ]
    },
    {
      "cell_type": "markdown",
      "id": "c73c36a4-ca20-4d05-b409-00760142af9f",
      "metadata": {
        "id": "c73c36a4-ca20-4d05-b409-00760142af9f"
      },
      "source": [
        "Note that we have used parentheses to group the conditions `extracurricular_activities >= 3` and `volunteer_hours >= 50`. This grouping is necessary because we want the `or` operator to evaluate these two conditions together as a single unit before applying the `and` operator to the rest of the conditions.\n",
        "\n",
        "Without parentheses, the `and` and `or` operators would be evaluated according to their precedence, which might lead to incorrect logical evaluation."
      ]
    },
    {
      "cell_type": "markdown",
      "id": "d8413cdc-ba7d-4c50-86e9-b9ac90f55462",
      "metadata": {
        "id": "d8413cdc-ba7d-4c50-86e9-b9ac90f55462"
      },
      "source": [
        "---\n",
        "\n",
        "## 2. Loops\n",
        "\n",
        "Loops allow you to execute a block of code multiple times, making your programs more concise. They enable you to automate repetitive tasks and process collections of items efficiently.\n",
        "\n",
        "### `for` loops\n",
        "\n",
        "A `for` loop lets you iterate over a sequence (such as a list, tuple, or string) and execute a block of code for each element in the sequence.\n",
        "\n",
        "The syntax for a `for` loop in Python is:\n",
        "\n",
        "```python\n",
        "for variable in sequence:\n",
        "    # Code block to execute for each element in the sequence\n",
        "```\n",
        "\n",
        "Here, a `sequence` is an ordered collection of elements, such as a list, tuple, or string. When you execute the for loop, the `variable` takes on the value of each element in the sequence, one at a time, and the code inside the loop is executed for each element.\n",
        "\n",
        "For example, you can iterate over each element in a list as follows."
      ]
    },
    {
      "cell_type": "code",
      "execution_count": null,
      "id": "b1ea1b18-b8ec-4059-91d5-f807bb4176b8",
      "metadata": {
        "tags": [],
        "id": "b1ea1b18-b8ec-4059-91d5-f807bb4176b8"
      },
      "outputs": [],
      "source": [
        "my_list = [10, -1, 5, -3, 11, 7]\n",
        "\n",
        "for num in my_list:\n",
        "    print(num)"
      ]
    },
    {
      "cell_type": "markdown",
      "id": "408b089b-92f2-4aa8-b1ba-8ff47739fd27",
      "metadata": {
        "id": "408b089b-92f2-4aa8-b1ba-8ff47739fd27"
      },
      "source": [
        "In this code:\n",
        "- The `for` loop iterates over each element in `my_list`.\n",
        "- During each iteration, the value of the current element is assigned to the variable `num`, and `print(num)` prints the value of `num`.\n",
        "\n",
        "Let's consider another example. Suppose you have a list of values for a variable $x$, and you want to determine the corresponding values of $y$ according to the equation $y = 2x^2 - 3x + 5$. Instead of just printing the *y* values inside the loop, suppose you want to store them in a separate list for future reference. You can achieve this by first creating an empty list and then appending the $y$ values as you go through each $x$ in a `for` loop."
      ]
    },
    {
      "cell_type": "code",
      "execution_count": null,
      "id": "0516c1ad-87f3-4377-8e5f-928ee695276e",
      "metadata": {
        "tags": [],
        "id": "0516c1ad-87f3-4377-8e5f-928ee695276e"
      },
      "outputs": [],
      "source": [
        "x_values = [0.0, 0.14, 0.21, 0.28, 0.42]  # The list of x values\n",
        "\n",
        "y_values = []  # Create an empty list to store the y values\n",
        "\n",
        "for x in x_values:\n",
        "    y_values.append(2*x**2 - 3*x + 5)\n",
        "\n",
        "print(y_values)"
      ]
    },
    {
      "cell_type": "markdown",
      "id": "7d3df2c2-a65a-4dbf-a2c9-db098e3cbe33",
      "metadata": {
        "id": "7d3df2c2-a65a-4dbf-a2c9-db098e3cbe33"
      },
      "source": [
        "In this code:\n",
        "- `y_values` is created as an empty list.\n",
        "- The `for` loop iterates over each element in `x_values`.\n",
        "- For each `x`, the corresponding *y* value is calculated according to the given equation and then appended to `y_values`.\n",
        "\n",
        "In Python, you can achieve the same result as the above code in a more compact form using a technique called **list comprehension**. List comprehension allows you to generate a new list by applying an expression to each element in an exisiting list."
      ]
    },
    {
      "cell_type": "code",
      "execution_count": null,
      "id": "7cea30e2-8f23-4697-9006-252d3ea712de",
      "metadata": {
        "id": "7cea30e2-8f23-4697-9006-252d3ea712de"
      },
      "outputs": [],
      "source": [
        "x_values = [0.0, 0.14, 0.21, 0.28, 0.42]  # The list of x values\n",
        "\n",
        "y_values = [(2*x**2 - 3*x + 5) for x in x_values]\n",
        "\n",
        "print(y_values)"
      ]
    },
    {
      "cell_type": "markdown",
      "id": "811e1882-0fa3-46f2-be1e-0d29c519f197",
      "metadata": {
        "id": "811e1882-0fa3-46f2-be1e-0d29c519f197"
      },
      "source": [
        "In this code:\n",
        "\n",
        "- The list comprehension `[(2*x**2 - 3*x + 5) for x in x_values]` creates a new list by applying the expression `2*x**2 - 3*x + 5` to each `x` in `x_values`.\n",
        "- This one-liner replaces the need for creating an empty list and using a `for` loop to populate it.\n",
        "- The result is the same as before: `y_values` contains the corresponding `y` values for each `x` in `x_values`.\n",
        "\n",
        "Note that the parentheses around `2*x**2 - 3*x + 5` in the list comprehension are not mandatory; they are used here to make the expression clearer and more readable.\n",
        "\n",
        "### `enumerate()` with `for` loops\n",
        "\n",
        "During each iteration, if you need the index position of the current element in the list, in addition to its value, you can use the `enumerate()` function as follows:"
      ]
    },
    {
      "cell_type": "code",
      "execution_count": null,
      "id": "4c765196-6b8c-4f6d-a824-7edb2b5a5513",
      "metadata": {
        "tags": [],
        "id": "4c765196-6b8c-4f6d-a824-7edb2b5a5513"
      },
      "outputs": [],
      "source": [
        "for index, num in enumerate(my_list):\n",
        "    print(f'The value at index {index} is {num}')"
      ]
    },
    {
      "cell_type": "markdown",
      "id": "bd4b45f0-50dc-4425-971b-68fda15e59c2",
      "metadata": {
        "tags": [],
        "id": "bd4b45f0-50dc-4425-971b-68fda15e59c2"
      },
      "source": [
        "In this code:\n",
        "- `enumerate(my_list)` generates a sequence of index-value pairs corresponding to all the elements in `my_list`.\n",
        "- The `for` loop iterates over each index-value pair in the sequence.\n",
        "- During each iteration, the index of the current element is assigned to the variable `index`, and the current element itself is assigned to the variable `num`.\n",
        "\n",
        "### `zip()` with `for` loops\n",
        "\n",
        "The `zip()` function allows you to iterate over two or more sequences in parallel. It pairs up the elements from each sequence based on their index positions.\n",
        "\n",
        "As an example, suppose that we have (*x*, *y*) Cartesian coordinates of five points in two-dimensional space. The *x* and *y* coordinates are stored in two separate lists. We can use the `zip()` function to iterate over both lists simultaneously as follows.\n",
        "\n"
      ]
    },
    {
      "cell_type": "code",
      "execution_count": null,
      "id": "143df692-aab2-4e27-ac75-7b71e979e51e",
      "metadata": {
        "tags": [],
        "id": "143df692-aab2-4e27-ac75-7b71e979e51e"
      },
      "outputs": [],
      "source": [
        "x_coords = [1, 2, 3, 4, 5]   # List of x coordinates\n",
        "y_coords = [1, 4, 9, 16, 25]  # List list of y coordinates corresponding to values in x_coords\n",
        "\n",
        "for x, y in zip(x_coords, y_coords):\n",
        "    print(f'x = {x}, y = {y}')\n",
        "    # Perform any further processing with the coordinates"
      ]
    },
    {
      "cell_type": "markdown",
      "id": "6b883b9b-145a-4f0f-82e1-a2c2f68b9a16",
      "metadata": {
        "id": "6b883b9b-145a-4f0f-82e1-a2c2f68b9a16"
      },
      "source": [
        "In this code:\n",
        "- `zip(x_coords, y_coords)` pairs up each element in `x_coords` with the corresponding element in `y_coords`.\n",
        "- During each iteration, the current *x* coordinate is assigned to the variable `x`, and the current *y* coordinate is assigned to the variable `y`.\n",
        "\n",
        "### `range()` with `for` loops\n",
        "\n",
        "The `range()` function is a versatile tool in Python that generates a sequence of numbers. It is commonly used with `for` loops to iterate over the generated sequence. The `range()` function can take up to three integer arguments: `start`, `stop`, and `step`. The `stop` argument is mandatory, while `start` and `step` are optional.\n",
        "\n",
        "When `range()` is called with a single argument `stop`, i.e., `range(stop)`, it will generate a sequence of numbers starting from `0` up to, but not including, `stop`. Here's an example code:"
      ]
    },
    {
      "cell_type": "code",
      "execution_count": null,
      "id": "98d8858e-ec76-4474-acd2-9aea2216845a",
      "metadata": {
        "tags": [],
        "id": "98d8858e-ec76-4474-acd2-9aea2216845a"
      },
      "outputs": [],
      "source": [
        "for i in range(5):\n",
        "    print(i)"
      ]
    },
    {
      "cell_type": "markdown",
      "id": "9640367c-1889-4ee1-b464-50a8d7379429",
      "metadata": {
        "id": "9640367c-1889-4ee1-b464-50a8d7379429"
      },
      "source": [
        "In this code:\n",
        "\n",
        "- `range(5)` generates the sequence of numbers 0, 1, 2, 3, 4.\n",
        "- The for loop iterates over each number in the sequence.\n",
        "- During each iteration, `print(i)` prints the current number.\n",
        "\n",
        "When `range()` is called with two arguments, i.e., `range(start, stop)`, it will generate a sequence of numbers starting from `start` up to, but not including, `stop`."
      ]
    },
    {
      "cell_type": "code",
      "execution_count": null,
      "id": "8f3c0922-feb2-43df-986d-facefbc2f890",
      "metadata": {
        "tags": [],
        "id": "8f3c0922-feb2-43df-986d-facefbc2f890"
      },
      "outputs": [],
      "source": [
        "for i in range(2, 6):\n",
        "    print(i)"
      ]
    },
    {
      "cell_type": "markdown",
      "id": "c8daed99-7da6-433e-933e-2e1db77ce983",
      "metadata": {
        "id": "c8daed99-7da6-433e-933e-2e1db77ce983"
      },
      "source": [
        "In this code, `range(2, 6)` generates the sequence of numbers 2, 3, 4, 5. The `for` loop iterates over each number in the sequence.\n",
        "\n",
        "When `range()` is called with three arguments, i.e., `range(start, stop, step)`, the third argument `step` specifies the interval between two consecutive numbers in the generated sequence."
      ]
    },
    {
      "cell_type": "code",
      "execution_count": null,
      "id": "382a13e9-f532-424d-a483-fcc6f618a53e",
      "metadata": {
        "tags": [],
        "id": "382a13e9-f532-424d-a483-fcc6f618a53e"
      },
      "outputs": [],
      "source": [
        "for i in range(1, 10, 2):\n",
        "    print(i)"
      ]
    },
    {
      "cell_type": "markdown",
      "id": "d9294a6f-1028-42e3-bc6b-31aaa1c3d83f",
      "metadata": {
        "tags": [],
        "id": "d9294a6f-1028-42e3-bc6b-31aaa1c3d83f"
      },
      "source": [
        "In this code, `range(1, 10, 2)` generates the sequence of numbers 1, 3, 5, 7, 9. The `for` loop iterates over each number `i` in the sequence and prints them.\n",
        "\n",
        "You can use a negative `step` to generate a sequence of numbers in reverse order."
      ]
    },
    {
      "cell_type": "code",
      "execution_count": null,
      "id": "7217762d-2b33-418a-bd2b-d2e76e7a5923",
      "metadata": {
        "tags": [],
        "id": "7217762d-2b33-418a-bd2b-d2e76e7a5923"
      },
      "outputs": [],
      "source": [
        "for i in range(5, 0, -1):\n",
        "    print(i)"
      ]
    },
    {
      "cell_type": "markdown",
      "id": "9de7f9b8-3ab2-4921-957e-d7bb2285fde8",
      "metadata": {
        "id": "9de7f9b8-3ab2-4921-957e-d7bb2285fde8"
      },
      "source": [
        "In the above code, `range(5, 0, -1)` generates the sequence of numbers from 5 to 1 in reverse order, i.e., 5, 4, 3, 2, 1. The `for` loop then iterates over each number in the sequence.\n",
        "\n",
        "If you set `step` to -2 instead of -1, the generated sequence will skip every other number while going from 5 to 1 in reverse order (see the code below)."
      ]
    },
    {
      "cell_type": "code",
      "execution_count": null,
      "id": "644ff95f-3a44-4ae1-9062-8afd4bb1feaa",
      "metadata": {
        "tags": [],
        "id": "644ff95f-3a44-4ae1-9062-8afd4bb1feaa"
      },
      "outputs": [],
      "source": [
        "for i in range(5, 0, -2):\n",
        "    print(i)"
      ]
    },
    {
      "cell_type": "markdown",
      "id": "dda9fb47-f09a-4c4e-af76-53ab5f246350",
      "metadata": {
        "id": "dda9fb47-f09a-4c4e-af76-53ab5f246350"
      },
      "source": [
        "Let's consider a few slightly more complex examples of using `for` loops together with `range()`. The following code calculates the sum of integers from 1 to 100."
      ]
    },
    {
      "cell_type": "code",
      "execution_count": null,
      "id": "691d44c2-63a4-471e-8e02-481ed64e91ce",
      "metadata": {
        "tags": [],
        "id": "691d44c2-63a4-471e-8e02-481ed64e91ce"
      },
      "outputs": [],
      "source": [
        "sum = 0\n",
        "\n",
        "for i in range(1, 101):\n",
        "    sum += i\n",
        "\n",
        "print(sum)"
      ]
    },
    {
      "cell_type": "markdown",
      "id": "9e018df0-f5e6-4e97-9877-62e7e78a50e4",
      "metadata": {
        "id": "9e018df0-f5e6-4e97-9877-62e7e78a50e4"
      },
      "source": [
        "In this code:\n",
        "\n",
        "- The variable `sum` is initialized to 0. `sum` will be updated with each iteration of the `for` loop.\n",
        "- `range(1, 101)` generates the sequence of numbers from 1 to 100, i.e., 1, 2, 3, ..., 100.\n",
        "- The `for` loop iterates over each number `i` in the sequence.\n",
        "- During each iteration, `i` is added to `sum`.\n",
        "\n",
        "If you wanted the sum of all the **even** integers from 1 to 100 instead, you can achieve this with a slight modification to `range()` as follows:"
      ]
    },
    {
      "cell_type": "code",
      "execution_count": null,
      "id": "9953033c-f06f-4b70-b0b3-8912c98d13db",
      "metadata": {
        "tags": [],
        "id": "9953033c-f06f-4b70-b0b3-8912c98d13db"
      },
      "outputs": [],
      "source": [
        "sum = 0\n",
        "\n",
        "for i in range(2, 101, 2):\n",
        "    sum += i\n",
        "\n",
        "print(sum)"
      ]
    },
    {
      "cell_type": "markdown",
      "id": "134b1363-7e07-4c77-8cf3-09a5f0b0f3cd",
      "metadata": {
        "id": "134b1363-7e07-4c77-8cf3-09a5f0b0f3cd"
      },
      "source": [
        "Here, `range(2, 101, 2)` generates the sequence 2, 4, 6, ...,98, 100. The `for` loop then iterates over each `i` in the sequence, adding it to `sum`.\n",
        "\n",
        "The following example determines the factorial of a non-negative integer $n$ (denoted by $n!$). For $n > 0$, $n! = 1 \\times 2 \\times 3 \\times \\ldots \\times n$, while $0! = 1$."
      ]
    },
    {
      "cell_type": "code",
      "execution_count": null,
      "id": "8a44f65a-24f7-4347-a35a-d42b988073b5",
      "metadata": {
        "tags": [],
        "id": "8a44f65a-24f7-4347-a35a-d42b988073b5"
      },
      "outputs": [],
      "source": [
        "n = 5\n",
        "\n",
        "factorial = 1\n",
        "\n",
        "for i in range(2, n+1):\n",
        "    factorial *= i\n",
        "\n",
        "print(f'The factorial of {n} is {factorial}')"
      ]
    },
    {
      "cell_type": "markdown",
      "id": "0d6e8a62-dfc3-4ca7-947f-411c817513f4",
      "metadata": {
        "id": "0d6e8a62-dfc3-4ca7-947f-411c817513f4"
      },
      "source": [
        "In this code:\n",
        "- `factorial` is initialized to 1 (which is the factorial of both 0 and 1).\n",
        "- `range(2, n+1)` generates a sequence starting from 2 to *n*, i.e., 2, 3, 4, ..., *n*.\n",
        "- The `for` loop iterates over each value `i` in the sequence.\n",
        "- For each `i`, `factorial` is multiplied by `i`.\n",
        "- The final value of `factorial` is printed as the factorial of `n`.\n",
        "\n",
        "Note that `range(2, n+1)` generates an empty sequence for both $n = 0$ and $n = 1$, since $2 \\ge (n+1)$. Therefore, the `for` loop is not executed for those values of $n$, and the value of `factorial` remains 1 (which is the correct factorial value for both $n = 0$ and $n = 1$).\n",
        "\n",
        "\n",
        "#### Note on the `range()` function\n",
        "\n",
        "So far, we have used the `range()` function within `for` loops. But can you use `range()` outside of a `for` loop just to generate a list of numbers with a given `start`, `end`, and `step`? Technically, the `range()` function does not directly return a list; instead, it returns a `range` object, which generates the numbers on demand, particularly when used within a `for` loop (this is known as lazy evaluation).\n",
        "\n",
        "Here’s an example:"
      ]
    },
    {
      "cell_type": "code",
      "execution_count": null,
      "id": "cf7af4ce-ae76-4ca4-8df5-daa3d10d3088",
      "metadata": {
        "tags": [],
        "id": "cf7af4ce-ae76-4ca4-8df5-daa3d10d3088"
      },
      "outputs": [],
      "source": [
        "my_sequence = range(1, 10, 2)\n",
        "\n",
        "print(my_sequence)"
      ]
    },
    {
      "cell_type": "markdown",
      "id": "b0f3d852-ed04-4cc0-92ae-af0a163e704f",
      "metadata": {
        "id": "b0f3d852-ed04-4cc0-92ae-af0a163e704f"
      },
      "source": [
        "Note that `my_sequence` is indeed not a list, but rather a `range` object. However, you can convert the generated `range` object to a list using the `list()` function as follows:"
      ]
    },
    {
      "cell_type": "code",
      "execution_count": null,
      "id": "dbf6bcaf-370c-4133-90ff-ecd7bceb70ea",
      "metadata": {
        "tags": [],
        "id": "dbf6bcaf-370c-4133-90ff-ecd7bceb70ea"
      },
      "outputs": [],
      "source": [
        "my_list = list(my_sequence)\n",
        "\n",
        "print(my_list)"
      ]
    },
    {
      "cell_type": "markdown",
      "id": "4a44d086-7e79-4e18-b29d-c30126eb258e",
      "metadata": {
        "tags": [],
        "id": "4a44d086-7e79-4e18-b29d-c30126eb258e"
      },
      "source": [
        "### `while` loops\n",
        "\n",
        "A `while` loop lets you repeat a block of code as long as a specified condition is true. It is useful when you do not know in advance how many times you need to execute a block of code.\n",
        "\n",
        "The syntax for a `while` loop in Python is:\n",
        "\n",
        "```python\n",
        "while condition:\n",
        "    # Code block to execute as long as the condition is true\n",
        "```\n",
        "\n",
        "Let's look at a simple example of counting from 1 to 5 using a `while` loop."
      ]
    },
    {
      "cell_type": "code",
      "execution_count": null,
      "id": "0077662c-61b3-4428-9752-668322ea1dea",
      "metadata": {
        "tags": [],
        "id": "0077662c-61b3-4428-9752-668322ea1dea"
      },
      "outputs": [],
      "source": [
        "count = 1\n",
        "\n",
        "while count <= 5:\n",
        "    print(count)\n",
        "    count += 1"
      ]
    },
    {
      "cell_type": "markdown",
      "id": "77606436-d0bc-4b42-9800-8672239c3922",
      "metadata": {
        "id": "77606436-d0bc-4b42-9800-8672239c3922"
      },
      "source": [
        "In this code:\n",
        "\n",
        "- The variable `count` is initialized to 1.\n",
        "- The `while` loop checks if `count` is less than or equal to 5.\n",
        "- If the condition is true, the code block within the loop is executed (i.e., the current value of `count` is printed, and `count` is incremented by 1).\n",
        "- The program execution goes back to the beginning of the `while` loop, checks if the condition is still true, and if it is, executes the code block again.\n",
        "- The loop repeats until the condition evaluates to false, which occurs when `count` is 6.\n",
        "\n",
        "In the following example, we use a `while` loop to calculate the sum of integers from 1 to 100."
      ]
    },
    {
      "cell_type": "code",
      "execution_count": null,
      "id": "e807e1fc-4eb9-4279-a6ed-da2db1d36647",
      "metadata": {
        "tags": [],
        "id": "e807e1fc-4eb9-4279-a6ed-da2db1d36647"
      },
      "outputs": [],
      "source": [
        "sum = 0\n",
        "i = 1\n",
        "\n",
        "while i <= 100:\n",
        "    sum += i\n",
        "    i += 1\n",
        "\n",
        "print(f\"Sum of numbers from 1 to 100 is {sum}\")"
      ]
    },
    {
      "cell_type": "markdown",
      "id": "1894fc3f-34a5-4347-bd4e-5ed1fd902b4b",
      "metadata": {
        "id": "1894fc3f-34a5-4347-bd4e-5ed1fd902b4b"
      },
      "source": [
        "In this code:\n",
        "\n",
        "- The variable `sum` is initialized to 0 to store the cumulative sum.\n",
        "- The variable `i` is initialized to 1 to start the count.\n",
        "- The while loop runs as long as `i` is less than or equal to 100.\n",
        "- During each iteration, `i` is added to `sum`, and then `i` is incremented by 1.\n",
        "- After the loop ends, the variable `sum` is printed, which now contains the sum of integers from 1 to 100.\n",
        "\n",
        "**NOTE:** If you think that the above two examples can be written more succinctly with fewer lines of code using a `for` loop, you're absolutely right! The whole point of those examples was to demonstrate how the `while` loops work.\n",
        "\n",
        "Let's look at a few examples where the `while` loop really shines. The following example uses a `while` loop to find the first number greater than 1000 that is divisible by both 3 and 7. This is a task that is straightforward with a `while` loop but not as easy with a `for` loop since we don't know in advance how many iterations we'll need."
      ]
    },
    {
      "cell_type": "code",
      "execution_count": null,
      "id": "25953e61-199b-4d40-9b0c-7563c62172d8",
      "metadata": {
        "tags": [],
        "id": "25953e61-199b-4d40-9b0c-7563c62172d8"
      },
      "outputs": [],
      "source": [
        "# Find the first number greater than 1000 divisible by both 3 and 7\n",
        "\n",
        "number = 1001\n",
        "\n",
        "# Loop until we find the number divisible by both 3 and 7\n",
        "while not (number % 3 == 0 and number % 7 == 0):\n",
        "    number += 1\n",
        "\n",
        "print(f\"The first number greater than 1000 that is divisible by both 3 and 7 is {number}\")"
      ]
    },
    {
      "cell_type": "markdown",
      "id": "cd686d02-6548-407a-aaba-6f6f91fba37f",
      "metadata": {
        "id": "cd686d02-6548-407a-aaba-6f6f91fba37f"
      },
      "source": [
        "In this code,\n",
        "- We start with `number` initialized to 1001.\n",
        "- The `while` loop continues to increment `number` by 1 until it finds a number that is divisible by both 3 and 7.\n",
        "- The condition `not (number % 3 == 0 and number % 7 == 0)` checks if the number is **not** divisible by both 3 and 7. If it is not, the loop continues.\n",
        "- Once a number divisible by both 3 and 7 is found, the loop terminates, and the result is printed.\n",
        "\n",
        "\n",
        "The following example prints all the numbers in the **Fibonacci** sequence that are less than 1000. The Fibonacci sequence is a series of numbers where each number is the sum of the two preceding ones. The first two Fibonacci numbers are defined as 0 and 1."
      ]
    },
    {
      "cell_type": "code",
      "execution_count": null,
      "id": "3d2d683b-3ada-407f-9f49-4b2362e8c21f",
      "metadata": {
        "tags": [],
        "id": "3d2d683b-3ada-407f-9f49-4b2362e8c21f"
      },
      "outputs": [],
      "source": [
        "a, b = 0, 1\n",
        "\n",
        "while a <= 1000:\n",
        "    print(a)\n",
        "    a, b = b, a + b"
      ]
    },
    {
      "cell_type": "markdown",
      "id": "0d1a80a3-8207-4092-b549-fdff1530fd80",
      "metadata": {
        "tags": [],
        "id": "0d1a80a3-8207-4092-b549-fdff1530fd80"
      },
      "source": [
        "In this code:\n",
        "- The variables `a` and `b` are initialized to 0 and 1, respectively. These represent the first two numbers in the Fibonacci sequence.\n",
        "- The `while` loop runs as long as `a` is less than or equal to 1000.\n",
        "- Inside the loop, `print(a)` prints the current value of `a`.\n",
        "- The statement `a, b = b, a + b` updates the values of `a` and `b` for the next iteration. Specifically, `a` takes the value of `b`, and `b` takes the sum of the previous values of `a` and `b`.\n",
        "- This process continues, generating the next number in the Fibonacci sequence and printing it until `a` exceeds 1000.\n",
        "\n",
        "Notice that we have used tuple assignment to update the values of `a` and `b` simultaneously. If we do not use tuple assignment, we need to use a temporary variable to achieve the same result (see the code snippet below). Otherwise, we would end up overwriting the value of `a` before it is used to update `b`, leading to incorrect results.\n",
        "\n",
        "```python\n",
        "temp = a\n",
        "a = b\n",
        "b = temp + b\n",
        "```\n",
        "\n",
        "### `break` and `continue` statements\n",
        "\n",
        "In Python, `break` and `continue` statements can be used within loops to control the flow of the loop.\n",
        "\n",
        "The `break` statement is used to exit the loop prematurely when a certain condition is met. When `break` is executed, the loop terminates, and the program continues with the next statement after the loop.\n",
        "\n",
        "The following example uses the `break` statement within a `for` loop to find a particular item in a list."
      ]
    },
    {
      "cell_type": "code",
      "execution_count": null,
      "id": "7bfcfb09-5ea8-46bd-877a-3b5431641375",
      "metadata": {
        "tags": [],
        "id": "7bfcfb09-5ea8-46bd-877a-3b5431641375"
      },
      "outputs": [],
      "source": [
        "# A list of fruits\n",
        "fruits = ['apple', 'banana', 'cherry', 'date', 'elderberry', 'fig', 'grape']\n",
        "\n",
        "search_item = 'cherry'  # The item we are looking for in the list\n",
        "\n",
        "index = -1  # Initialize index to a value that indicates 'item not found'.\n",
        "\n",
        "# Find the index position of the search item in the list\n",
        "for i, fruit in enumerate(fruits):\n",
        "    if fruit == search_item:\n",
        "        index = i\n",
        "        break\n",
        "\n",
        "if index == -1:\n",
        "    print(f'The word \"{search_item}\" is not in the list')\n",
        "else:\n",
        "    print(f'The index of \"{search_item}\" is {index}')"
      ]
    },
    {
      "cell_type": "markdown",
      "id": "afbb9de2-13e6-4eac-8b30-ff4621906999",
      "metadata": {
        "id": "afbb9de2-13e6-4eac-8b30-ff4621906999"
      },
      "source": [
        "In this code:\n",
        "\n",
        "- The variable `index` is initialized to -1. `index` will be updated inside the `for` loop if the item we're looking for is found in the list; otherwise, it will remain -1.\n",
        "- The `for` loop iterates through the list using `enumerate()`.\n",
        "- During each iteration, the index and the value of the current element are assinged to `i` and `fruit`, respectively.\n",
        "- When (and if) the search item is found, its index `i` is stored in the variable `index`, and the `break` statement exits the loop.\n",
        "- After the loop has ended, if `index` is still -1, it implies that the item is not in the list. Otherwise, `index` stores index of the search item in the list.\n",
        "\n",
        "Note that if we exclude the `break` statement, the code will still produce the same result, but the `for` loop will iterate over all items in the list, whether we find the element very early on or not. This makes the `break` statement useful for improving efficiency by terminating the loop as soon as the desired item is found.\n",
        "\n",
        "\n",
        "The `continue` statement is used to skip the rest of the code inside the loop for the current iteration and move on to the next iteration when a certain condition is met.\n",
        "\n",
        "For example, suppose you have a list of numbers that you want to process via a `for` loop. You want to perform some calculations with each number in the list, only if the number is non negative."
      ]
    },
    {
      "cell_type": "code",
      "execution_count": null,
      "id": "1bc83ac9-61ce-40e3-a0eb-310c2e209a68",
      "metadata": {
        "tags": [],
        "id": "1bc83ac9-61ce-40e3-a0eb-310c2e209a68"
      },
      "outputs": [],
      "source": [
        "import math\n",
        "\n",
        "# List of numbers\n",
        "numbers = [4, -3, 16, -9, 25, -12, 36, -15, 49, -18]\n",
        "\n",
        "# Loop through the list and perform mathematical operations only on non-negative numbers\n",
        "for number in numbers:\n",
        "\n",
        "    # If number is negative, skip the rest of the code and move on to the next iteration.\n",
        "    if number < 0:\n",
        "        continue\n",
        "\n",
        "    # Code to be executed only if number is non-negative\n",
        "    square_root = math.sqrt(number)\n",
        "    logarithm = math.log(number)\n",
        "\n",
        "    print(f'number: {number}, square root: {square_root:.2f}, logarithm: {logarithm:.2f}')"
      ]
    },
    {
      "cell_type": "markdown",
      "id": "7017e584-b6c2-4b83-87e8-9373c1c74005",
      "metadata": {
        "id": "7017e584-b6c2-4b83-87e8-9373c1c74005"
      },
      "source": [
        "In this code:\n",
        "\n",
        "- The `for` loop iterates through each `number` in the list.\n",
        "- If `number` is negative, the `continue` statement skips the rest of the code inside the loop for that iteration.\n",
        "- If `number` is non-negative, the rest of the code inside the loop is executed (i.e., the square root and logarithm of `number` are calculated, and the results are printed)."
      ]
    },
    {
      "cell_type": "markdown",
      "id": "69fdc0fc-4ff1-4e0f-bf78-90585502980a",
      "metadata": {
        "tags": [],
        "id": "69fdc0fc-4ff1-4e0f-bf78-90585502980a"
      },
      "source": [
        "---\n",
        "\n",
        "## 3. User-Defined Functions\n",
        "\n",
        "Functions are a fundamental building block in Python programming. As you've seen, Python comes with many built-in functions, such as the `print()` function and the functions in the `math` library. However, you can also define your own functions. User-defined functions allow you to encapsulate a block of code into a single entity that can be reused multiple times throughout your program. This helps make your code more modular, readable, and maintainable.\n",
        "\n",
        "### Defining a function\n",
        "\n",
        "In Python, you define a function using the `def` keyword, followed by the function name, parentheses `()`, and a colon `:`.\n",
        "\n",
        "```python\n",
        "def function_name():\n",
        "    # Code block to be executed when the function is called\n",
        "```\n",
        "\n",
        "Note that the code block inside the function must be be indented. Optionally, inside the parentheses next to the function name, you can specify parameters that the function can accept.\n",
        "\n",
        "Here is an example of a simple function that takes no parameters and prints a greeting message:"
      ]
    },
    {
      "cell_type": "code",
      "execution_count": null,
      "id": "ff4d67f9-3464-4268-994c-2e2eab85b0d0",
      "metadata": {
        "tags": [],
        "id": "ff4d67f9-3464-4268-994c-2e2eab85b0d0"
      },
      "outputs": [],
      "source": [
        "def greet():\n",
        "    print(\"Welcome to the Hotel California!\")"
      ]
    },
    {
      "cell_type": "markdown",
      "id": "881c5fb5-01e7-434c-8a06-1a17a585da3f",
      "metadata": {
        "id": "881c5fb5-01e7-434c-8a06-1a17a585da3f"
      },
      "source": [
        "The above code **defines** the function `greet()` but it does not **run** the function (that is, the code block inside the function is not executed). In order to run the function, you need to **call** the function by using its name followed by parentheses as follows:"
      ]
    },
    {
      "cell_type": "code",
      "execution_count": null,
      "id": "ee2340c2-1fb3-4501-8a81-1f6afb57bed9",
      "metadata": {
        "tags": [],
        "id": "ee2340c2-1fb3-4501-8a81-1f6afb57bed9"
      },
      "outputs": [],
      "source": [
        "greet()"
      ]
    },
    {
      "cell_type": "markdown",
      "id": "96f278f9-4316-4ef9-80eb-db23e83e3944",
      "metadata": {
        "id": "96f278f9-4316-4ef9-80eb-db23e83e3944"
      },
      "source": [
        "### Functions with parameters\n",
        "\n",
        "Functions can also accept parameters, which allow you to pass data into the function. Here is an example of a function that takes two parameters and prints their sum:"
      ]
    },
    {
      "cell_type": "code",
      "execution_count": null,
      "id": "1de43b25-11bd-42bd-a33e-e479e272a4b1",
      "metadata": {
        "tags": [],
        "id": "1de43b25-11bd-42bd-a33e-e479e272a4b1"
      },
      "outputs": [],
      "source": [
        "def add_numbers(a, b):\n",
        "    sum = a + b\n",
        "    print(f\"The sum of {a} and {b} is {sum}\")"
      ]
    },
    {
      "cell_type": "markdown",
      "id": "d2208bb5-b377-42a1-b545-e96bc5e0363f",
      "metadata": {
        "id": "d2208bb5-b377-42a1-b545-e96bc5e0363f"
      },
      "source": [
        "To call this function with arguments, you can do the following:"
      ]
    },
    {
      "cell_type": "code",
      "execution_count": null,
      "id": "5c8f33f5-29cf-4ee4-b384-ef813c82c574",
      "metadata": {
        "tags": [],
        "id": "5c8f33f5-29cf-4ee4-b384-ef813c82c574"
      },
      "outputs": [],
      "source": [
        "add_numbers(5, 3)"
      ]
    },
    {
      "cell_type": "markdown",
      "id": "004554b0-a538-45da-8fbb-0c80f30946dd",
      "metadata": {
        "id": "004554b0-a538-45da-8fbb-0c80f30946dd"
      },
      "source": [
        "When you call the function with arguments 5 and 3, 5 is assigned to the variable `a` and 3 is assigned to the variable `b`. Inside the function, the sum of the values of `a` and `b` is calculated and the result is printed.\n",
        "\n",
        "### Returning values from functions\n",
        "\n",
        "Functions can return values using the `return` statement. This allows you to retrieve the result calculated inside the function and use it elsewhere in your program. Here is an example of a function that calculates the square of a number and returns the result:"
      ]
    },
    {
      "cell_type": "code",
      "execution_count": null,
      "id": "8cd85f40-86cd-4659-83ce-b0c8e9bea4d9",
      "metadata": {
        "tags": [],
        "id": "8cd85f40-86cd-4659-83ce-b0c8e9bea4d9"
      },
      "outputs": [],
      "source": [
        "def square(x):\n",
        "    return x*x"
      ]
    },
    {
      "cell_type": "markdown",
      "id": "010ea8c5-b589-4052-ba9a-0c403ccf7c8f",
      "metadata": {
        "id": "010ea8c5-b589-4052-ba9a-0c403ccf7c8f"
      },
      "source": [
        "You can call this function and store the returned value in a variable:"
      ]
    },
    {
      "cell_type": "code",
      "execution_count": null,
      "id": "037ca588-675b-425a-96c3-228b9d393585",
      "metadata": {
        "tags": [],
        "id": "037ca588-675b-425a-96c3-228b9d393585"
      },
      "outputs": [],
      "source": [
        "result = square(4)\n",
        "\n",
        "print(f\"The square of 4 is {result}\")"
      ]
    },
    {
      "cell_type": "markdown",
      "id": "f77d915f-1b52-4d74-8f1f-a41788b5e0df",
      "metadata": {
        "id": "f77d915f-1b52-4d74-8f1f-a41788b5e0df"
      },
      "source": [
        "When the statement `result = square(4)` is executed:\n",
        "- The function `square()` is called with the argument 4.\n",
        "- 4 is assigned to the variable `x`.\n",
        "- Inside the function, the expression `x*x` is evaluated, and the result is returned.\n",
        "- The result returned by the function is assigned to the variable `result`.\n",
        "\n",
        "Here's another example of a function with a return value. This function calculates and returns the factorial of a non-negative integer."
      ]
    },
    {
      "cell_type": "code",
      "execution_count": null,
      "id": "30b9e0d3-9787-4b38-85a9-be615dfe2867",
      "metadata": {
        "tags": [],
        "id": "30b9e0d3-9787-4b38-85a9-be615dfe2867"
      },
      "outputs": [],
      "source": [
        "def factorial(n):\n",
        "    result = 1\n",
        "\n",
        "    for i in range(2, n+1):\n",
        "        result *= i\n",
        "\n",
        "    return result"
      ]
    },
    {
      "cell_type": "markdown",
      "id": "7673b9a5-310a-4f05-9095-ea5135bbc287",
      "metadata": {
        "id": "7673b9a5-310a-4f05-9095-ea5135bbc287"
      },
      "source": [
        "The beauty of defining a function is that you can call it as many times as needed with different arguments, without having to repeat the same lines of code again and again."
      ]
    },
    {
      "cell_type": "code",
      "execution_count": null,
      "id": "d0e83a5d-d731-46bf-81b3-097338f603a6",
      "metadata": {
        "tags": [],
        "id": "d0e83a5d-d731-46bf-81b3-097338f603a6"
      },
      "outputs": [],
      "source": [
        "print(f'The factorial of 0 is {factorial(0)}')\n",
        "\n",
        "print(f'The factorial of 5 is {factorial(5)}')\n",
        "\n",
        "print(f'The factorial of 8 is {factorial(8)}')\n",
        "\n",
        "print(f'The factorial of 12 is {factorial(12)}')"
      ]
    },
    {
      "cell_type": "markdown",
      "id": "2edc81cf-9404-4999-ab9a-4b5298cc3bf7",
      "metadata": {
        "id": "2edc81cf-9404-4999-ab9a-4b5298cc3bf7"
      },
      "source": [
        "In Python, a function can return multiple values by separating them with commas. These values are returned as a tuple, which allows you to retrieve and use multiple results from a single function call.\n",
        "\n",
        "Here is an example of a function that calculates the area and circumference of a circle and returns both quantities, when the radius is passed as an argument:"
      ]
    },
    {
      "cell_type": "code",
      "execution_count": null,
      "id": "3d64cc1e-0704-4a18-ad5a-c79209d27679",
      "metadata": {
        "tags": [],
        "id": "3d64cc1e-0704-4a18-ad5a-c79209d27679"
      },
      "outputs": [],
      "source": [
        "import math\n",
        "\n",
        "# Define the function\n",
        "\n",
        "def circle_properties(radius):\n",
        "    area = math.pi*radius**2\n",
        "    circumference = 2*math.pi*radius\n",
        "\n",
        "    return area, circumference\n",
        "\n",
        "\n",
        "r = 1.0  # Radius of the circle to calculate the properties\n",
        "\n",
        "A, C = circle_properties(r)  # Call the function and store the returned values.\n",
        "\n",
        "\n",
        "print(f'For a circle of radius {r}, the area is {A:.3f} and the circumference is {C:.3f}')"
      ]
    },
    {
      "cell_type": "markdown",
      "id": "5dfe7fb1-00fd-4605-9290-6f1234f94cf2",
      "metadata": {
        "id": "5dfe7fb1-00fd-4605-9290-6f1234f94cf2"
      },
      "source": [
        "Here, the function `circle_properties()` returns the calculated values of `area` and `circumference`, which are respectively stored in the variables `A` and `C` in the main program.\n",
        "\n",
        "### Lambda functions\n",
        "\n",
        "In Python, lambda functions are small, simple functions defined using the `lambda` keyword. Unlike regular functions that are defined using `def`, lambda functions are typically used for short, quick operations and can be defined in a single line of code.\n",
        "\n",
        "The syntax for a lambda function is:\n",
        "\n",
        "```python\n",
        "function_name = lambda arguments: expression\n",
        "```\n",
        "\n",
        "Here, `arguments` is the sequence of arguments (separated by commas) to be passed into the function, and `expression` is the expression to be evaluated, with its result being returned after the function is executed.\n",
        "\n",
        "The following code shows two examples of lambda functions:\n",
        "1. Calculating the square of a number\n",
        "2. Adding two numbers"
      ]
    },
    {
      "cell_type": "code",
      "execution_count": null,
      "id": "e98897a8-40f0-45a1-aa5b-86c966819a1b",
      "metadata": {
        "tags": [],
        "id": "e98897a8-40f0-45a1-aa5b-86c966819a1b"
      },
      "outputs": [],
      "source": [
        "# Example 1: Calculating the square of a number\n",
        "\n",
        "square = lambda x: x * x\n",
        "\n",
        "print(\"The square of 4 is\", square(4))\n",
        "print(\"The square of 9 is\", square(9))\n",
        "\n",
        "\n",
        "# Example 2: Adding two numbers\n",
        "\n",
        "add = lambda x, y: x + y\n",
        "\n",
        "print(\"The sum of 3 and 5 is\", add(3, 5))\n",
        "print(\"The sum of 4 and 6 is\", add(4, 6))"
      ]
    },
    {
      "cell_type": "markdown",
      "id": "3f06b607-01a9-4fd7-ad2c-a0db2eb3ae06",
      "metadata": {
        "id": "3f06b607-01a9-4fd7-ad2c-a0db2eb3ae06"
      },
      "source": [
        "Lambda functions are useful when you need a simple function for a short period of time and don't want to define a full function using `def`.\n",
        "\n",
        "### Recursive functions\n",
        "\n",
        "A **recursive function** is a function that calls itself in order to solve a problem. Recursion is a common technique used in programming to solve problems that can be broken down into smaller, similar subproblems.\n",
        "\n",
        "A classic example of recursion is the calculation of the factorial of a non-negative integer using a recursive approach. Recall that the factorial of a non-negative integer $n$ is defined by $n! = n \\times (n-1) \\times ... \\times 3 \\times 2 \\times 1$ when $n > 0$, with $0! = 1$. Earlier, we wrote code to calculate the factorial based on this definition using a `for` loop.\n",
        "\n",
        "Notice that $n!$ can also be defined as: $n! = n \\times (n-1)!$ when $n > 0$, with $0! = 1$. This *recursive* definition gives us an alternative way of calculating the factorial via a function that calls itself:"
      ]
    },
    {
      "cell_type": "code",
      "execution_count": null,
      "id": "f65c8da7-6812-460e-b949-0c073447b208",
      "metadata": {
        "tags": [],
        "id": "f65c8da7-6812-460e-b949-0c073447b208"
      },
      "outputs": [],
      "source": [
        "def fact(n):\n",
        "    if n==0:\n",
        "        return 1\n",
        "    else:\n",
        "        return n*fact(n-1)"
      ]
    },
    {
      "cell_type": "markdown",
      "id": "775da90c-940e-4b49-afaa-3a2951778c3c",
      "metadata": {
        "id": "775da90c-940e-4b49-afaa-3a2951778c3c"
      },
      "source": [
        "When the `fact()` function is called with a non-negative integer `n`, it follows these steps:\n",
        "\n",
        "1. **Base case**: If `n` is `0`, the function returns `1`. This is the stopping condition that prevents infinite recursion.\n",
        "2. **Recursive case**: If `n` is greater than `0`, the function returns `n` multiplied by the result of calling `fact()` with `n - 1`. This breaks down the problem into smaller instances of the same problem.\n",
        "\n",
        "For example, calling `fact(3)` works as follows:\n",
        "\n",
        "- `fact(3)` returns `3 * fact(2)`\n",
        "  - This invokes a call to `fact(2)`\n",
        "- `fact(2)` returns `2 * fact(1)`\n",
        "  - This invokes a call to `fact(1)`\n",
        "- `fact(1)` returns `1 * fact(0)`\n",
        "  - This invokes a call to `fact(0)`\n",
        "- `fact(0)` returns `1` (base case)\n",
        "\n",
        "So the final calculation is:\n",
        "\n",
        "- The returned value of `fact(1)` evaluates to `1 * fact(0) = 1 * 1 = 1`\n",
        "- The returned value of `fact(2)` evaluates to `2 * fact(1) = 2 * 1 = 2`\n",
        "- The returned value of `fact(3)` evaluates to `3 * fact(2) = 3 * 2 = 6`\n",
        "\n",
        "Our recursive factorial function works just as well as the loop-based factorial function we coded earlier:"
      ]
    },
    {
      "cell_type": "code",
      "execution_count": null,
      "id": "7d196f5e-047a-4afe-a49d-7bc7b74f4b18",
      "metadata": {
        "tags": [],
        "id": "7d196f5e-047a-4afe-a49d-7bc7b74f4b18"
      },
      "outputs": [],
      "source": [
        "print(f'The factorial of 0 is {fact(0)}')\n",
        "\n",
        "print(f'The factorial of 5 is {fact(5)}')\n",
        "\n",
        "print(f'The factorial of 8 is {fact(8)}')\n",
        "\n",
        "print(f'The factorial of 12 is {fact(12)}')"
      ]
    }
  ],
  "metadata": {
    "kernelspec": {
      "display_name": "Python 3",
      "language": "python",
      "name": "python3"
    },
    "language_info": {
      "codemirror_mode": {
        "name": "ipython",
        "version": 3
      },
      "file_extension": ".py",
      "mimetype": "text/x-python",
      "name": "python",
      "nbconvert_exporter": "python",
      "pygments_lexer": "ipython3",
      "version": "3.10.11"
    },
    "colab": {
      "provenance": [],
      "include_colab_link": true
    }
  },
  "nbformat": 4,
  "nbformat_minor": 5
}
