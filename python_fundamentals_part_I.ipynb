{
  "cells": [
    {
      "cell_type": "markdown",
      "metadata": {
        "id": "view-in-github",
        "colab_type": "text"
      },
      "source": [
        "<a href=\"https://colab.research.google.com/github/dilinanp/computational-physics/blob/main/python_fundamentals_part_I.ipynb\" target=\"_parent\"><img src=\"https://colab.research.google.com/assets/colab-badge.svg\" alt=\"Open In Colab\"/></a>"
      ]
    },
    {
      "cell_type": "markdown",
      "id": "ce3553cf-1036-46d7-bd8a-8baba711eb61",
      "metadata": {
        "tags": [],
        "id": "ce3553cf-1036-46d7-bd8a-8baba711eb61"
      },
      "source": [
        "# Python Language Fundamentals - Part I\n",
        "\n",
        "## Introduction\n",
        "\n",
        "Welcome to Part I of the tutorial on the fundamentals of the Python language. In this tutorial, we will cover the basics of Python programming, including variables, data types, lists, and basic arithmetic operations. By the end of this tutorial, you should have a good understanding of Python syntax and be ready to dive into control flow and user-defined functions in Part II.\n",
        "\n",
        "\n",
        "## Table of Contents\n",
        "\n",
        "1. Hello World\n",
        "2. Variables and Data Types\n",
        "3. Arithmetic Operations\n",
        "4. Lists and List Operations\n",
        "5. Libraries and Importing Functions\n",
        "\n",
        "---\n",
        "\n",
        "### Note on Cells\n",
        "\n",
        "In Jupyter Notebooks (including Google Colab), there are two main types of cells you will work with: code cells and markdown (or text) cells.\n",
        "\n",
        "- **Code Cells**: These cells contain Python code that you can execute. When you run a code cell, the output is displayed directly below the cell. To execute a code cell, click on it and press `Shift + Enter`. Code cells are usually indicated by `[ ]:` or `In [ ]:` on the left side. Throughout this tutorial, you will be asked to execute code cells by clicking on them and pressing `Shift + Enter`.\n",
        "\n",
        "- **Markdown (Text) Cells**: These cells contain text formatted using Markdown, a lightweight markup language. They are used for explanations, instructions, and organizing your notebook. Markdown cells do not produce executable output. In Google Colab, these are often referred to as text cells. Markdown cells are usually indicated by the absence of `[ ]:` on the left side.\n",
        "\n",
        "Please avoid double-clicking on a markdown (text) cell, as this will switch the cell to edit mode. If you accidentally double-click on a markdown cell, press `Shift + Enter` to return it to the readable format."
      ]
    },
    {
      "cell_type": "markdown",
      "id": "592b105b-6e7a-4c5b-9c1f-c026ed3e1be2",
      "metadata": {
        "tags": [],
        "id": "592b105b-6e7a-4c5b-9c1f-c026ed3e1be2"
      },
      "source": [
        "---\n",
        "\n",
        "## 1. Hello World\n",
        "\n",
        "Let's start with a simple \"Hello World\" program. This is a traditional first program for beginners because it shows the basic syntax of the language.\n",
        "Click on the code cell below and hit `Shift + Enter`."
      ]
    },
    {
      "cell_type": "code",
      "execution_count": null,
      "id": "a256ce0b-e1ae-47ec-826e-f919e4915ee4",
      "metadata": {
        "tags": [],
        "id": "a256ce0b-e1ae-47ec-826e-f919e4915ee4"
      },
      "outputs": [],
      "source": [
        "# This is a comment.\n",
        "\n",
        "print(\"Hello World!\")"
      ]
    },
    {
      "cell_type": "markdown",
      "id": "805a51c5-4385-4f79-8916-8f1b9605f428",
      "metadata": {
        "id": "805a51c5-4385-4f79-8916-8f1b9605f428"
      },
      "source": [
        "In this code:\n",
        "- `# This is a comment`: In Python, everything that follows the `#` symbol on a line is considered a comment and will be ignored by the computer (more specifically, the *Python interpreter*). Comments are used to provide explanations or additional context about the code, helping human readers understand its purpose and functionality better.\n",
        "- `print(\"Hello World!\")`: This line prints the text \"Hello World!\" to the screen. `print()` is a built-in Python function used to display strings (i.e., a sequence of characters written between double quotes \" \" or single quotes ' ') as well as the contents of variables."
      ]
    },
    {
      "cell_type": "code",
      "execution_count": null,
      "id": "17f86100-e493-47c9-95e9-18cfa310d080",
      "metadata": {
        "tags": [],
        "id": "17f86100-e493-47c9-95e9-18cfa310d080"
      },
      "outputs": [],
      "source": [
        "# Prints the same text as before.\n",
        "# Note that you can either use double quotes \" \" or single quotes ' ' to wrap strings.\n",
        "\n",
        "print('Hello World!')"
      ]
    },
    {
      "cell_type": "markdown",
      "id": "7012bef2-6e52-45a6-901a-4a81800901a9",
      "metadata": {
        "id": "7012bef2-6e52-45a6-901a-4a81800901a9"
      },
      "source": [
        "---\n",
        "\n",
        "## 2. Variables and Data Types\n",
        "\n",
        "Variables are used to store data. You can think of variables as little boxes in computer memory where you can temporarily store numbers, strings, etc.\n",
        "\n",
        "Each variable in Python is identified by a unique name. Variable names must start with a letter (a-z, A-Z) or an underscore (\\_), followed by letters, underscores, or digits (0-9). They are also case-sensitive, meaning `myVariable` and `myvariable` are considered different names. When you want to include multiple words in a variable name, a common practice is to separate words with an underscore (\\_), for example, `first_name`.\n",
        "\n",
        "Each variable is of a specific data type. The basic data types in Python are:\n",
        "- Integer\n",
        "- Float\n",
        "- String\n",
        "- Boolean\n",
        "\n",
        "Let's go through each of these data types in detail. While doing so, we will learn how to create variables, assign values to them, and print their values.\n",
        "\n",
        "### Integer\n",
        "\n",
        "An integer is a whole number without a decimal point.\n",
        "The following line of code creates an integer variable named `a` and stores the value 10 in it."
      ]
    },
    {
      "cell_type": "code",
      "execution_count": null,
      "id": "793b89f9-4385-4925-b1e6-94fb7487aebe",
      "metadata": {
        "tags": [],
        "id": "793b89f9-4385-4925-b1e6-94fb7487aebe"
      },
      "outputs": [],
      "source": [
        "a = 10"
      ]
    },
    {
      "cell_type": "markdown",
      "id": "a0ea17cd-8d7c-4cd3-bb1c-063f4696759e",
      "metadata": {
        "id": "a0ea17cd-8d7c-4cd3-bb1c-063f4696759e"
      },
      "source": [
        "Here, the symbol `=` is called the *assignment operator*. It instructs the computer (more specifically, the *Python interpreter*) to create an integer variable named `a` and then assign the value 10 to it. Note that we did not explicitly specify that the type of variable `a` should be an integer. The Python interpreter infers the variable type from the value you assign to it.\n",
        "\n",
        "You can print/display the value stored in `a` by simply typing `a` in a new code cell and hitting enter."
      ]
    },
    {
      "cell_type": "code",
      "execution_count": null,
      "id": "7620454c-4da6-4fac-a139-cc65f725c1ed",
      "metadata": {
        "tags": [],
        "id": "7620454c-4da6-4fac-a139-cc65f725c1ed"
      },
      "outputs": [],
      "source": [
        "a"
      ]
    },
    {
      "cell_type": "markdown",
      "id": "d2abe739-7b7b-48d3-86d5-8592dd54cc95",
      "metadata": {
        "id": "d2abe739-7b7b-48d3-86d5-8592dd54cc95"
      },
      "source": [
        "A better way to print the value of `a` is to use the `print()` function:"
      ]
    },
    {
      "cell_type": "code",
      "execution_count": null,
      "id": "e7554972-7b60-42b6-a447-d8f313d4e1e9",
      "metadata": {
        "tags": [],
        "id": "e7554972-7b60-42b6-a447-d8f313d4e1e9"
      },
      "outputs": [],
      "source": [
        "print(a)"
      ]
    },
    {
      "cell_type": "markdown",
      "id": "08c912e0-9c6f-4af8-87a9-0e7b9bc3fbae",
      "metadata": {
        "id": "08c912e0-9c6f-4af8-87a9-0e7b9bc3fbae"
      },
      "source": [
        "You can add a text description to the `print()` function to provide some context as to what you're printing. The `print()` function can take multiple arguments, separated by commas, and will print them with a space in between (see below):"
      ]
    },
    {
      "cell_type": "code",
      "execution_count": null,
      "id": "7d28c869-dd21-4db3-9ee6-7810e80c0532",
      "metadata": {
        "tags": [],
        "id": "7d28c869-dd21-4db3-9ee6-7810e80c0532"
      },
      "outputs": [],
      "source": [
        "print('The value of a is', a)"
      ]
    },
    {
      "cell_type": "markdown",
      "id": "d9ebacf3-d8b8-4986-90e4-95dac03b750b",
      "metadata": {
        "id": "d9ebacf3-d8b8-4986-90e4-95dac03b750b"
      },
      "source": [
        "If you wish to change the value stored in `a` to something else, you can do so by using the assignment operator `=` again. This will overwrite the previous value of `a` with the new value."
      ]
    },
    {
      "cell_type": "code",
      "execution_count": null,
      "id": "7dab7909-f076-412d-8894-e9009a0df2f8",
      "metadata": {
        "tags": [],
        "id": "7dab7909-f076-412d-8894-e9009a0df2f8"
      },
      "outputs": [],
      "source": [
        "a = 5\n",
        "\n",
        "print('The new value of a is', a)"
      ]
    },
    {
      "cell_type": "markdown",
      "id": "169e4817-0eb2-48a8-84d1-9d827f387c46",
      "metadata": {
        "id": "169e4817-0eb2-48a8-84d1-9d827f387c46"
      },
      "source": [
        "In Python, you can assign values to multiple variables simultaneously by separating the variables and values with commas. This type of assignment operation is called a **tuple assignment**. For example, the following line of code assigns the value `7` to `a` and `9` to `b`:"
      ]
    },
    {
      "cell_type": "code",
      "execution_count": null,
      "id": "457b9765-7cf7-4135-818c-28ffbda0dd87",
      "metadata": {
        "tags": [],
        "id": "457b9765-7cf7-4135-818c-28ffbda0dd87"
      },
      "outputs": [],
      "source": [
        "a, b = 7, 9\n",
        "\n",
        "print('value of a is', a)\n",
        "print('value of b is', b)"
      ]
    },
    {
      "cell_type": "markdown",
      "id": "30af66ed-47c7-4bd8-930c-e086ff133572",
      "metadata": {
        "id": "30af66ed-47c7-4bd8-930c-e086ff133572"
      },
      "source": [
        "**Note on Spacing:** In the example above, note that there's a blank line after the first statement `a, b = 7, 9`. Blank lines between statements are ignored by the Python interpreter and do not affect the execution of the code. These blank lines are used solely to improve human readability, making the code easier to read and understand."
      ]
    },
    {
      "cell_type": "markdown",
      "id": "25b05fe5-07d0-42bd-b0a4-c76443ca36d6",
      "metadata": {
        "id": "25b05fe5-07d0-42bd-b0a4-c76443ca36d6"
      },
      "source": [
        "### Float\n",
        "\n",
        "A float or a floating-point number is a real number with a decimal point. See the examples below:"
      ]
    },
    {
      "cell_type": "code",
      "execution_count": null,
      "id": "dc60f03d-ea63-4ff3-8d45-38d5bfc0d975",
      "metadata": {
        "tags": [],
        "id": "dc60f03d-ea63-4ff3-8d45-38d5bfc0d975"
      },
      "outputs": [],
      "source": [
        "c = 5.0\n",
        "print(\"value of c is\", c)\n",
        "\n",
        "pi = 3.142\n",
        "print(\"value of pi is\", pi)\n",
        "\n",
        "m = 1.5e3\n",
        "print(\"value of m is\", m)\n",
        "\n",
        "h = 6.626e-34\n",
        "print(\"value of h is\", h)"
      ]
    },
    {
      "cell_type": "markdown",
      "id": "bff822ad-e689-42ec-bb9c-8ba3d3a97a5c",
      "metadata": {
        "id": "bff822ad-e689-42ec-bb9c-8ba3d3a97a5c"
      },
      "source": [
        "Note that we can create floating-point variables either using the decimal point `.` or scientific notation `e`, which represents powers of 10."
      ]
    },
    {
      "cell_type": "markdown",
      "id": "219a30ba-bee7-463e-a94e-08646a5b0a38",
      "metadata": {
        "id": "219a30ba-bee7-463e-a94e-08646a5b0a38"
      },
      "source": [
        "### String\n",
        "\n",
        "A string is a sequence of characters enclosed in quotes. Strings can be enclosed in single quotes (`' '`) or double quotes (`\" \"`)."
      ]
    },
    {
      "cell_type": "code",
      "execution_count": null,
      "id": "d77a7def-352d-410d-9342-c5b4e8a48311",
      "metadata": {
        "tags": [],
        "id": "d77a7def-352d-410d-9342-c5b4e8a48311"
      },
      "outputs": [],
      "source": [
        "my_name = 'Inigo Montoya'\n",
        "print('My name is', my_name)"
      ]
    },
    {
      "cell_type": "markdown",
      "id": "4a62f68b-22a5-4dbe-9d33-6bd575b07add",
      "metadata": {
        "id": "4a62f68b-22a5-4dbe-9d33-6bd575b07add"
      },
      "source": [
        "### Boolean\n",
        "\n",
        "A boolean represents one of two values: `True` or `False`."
      ]
    },
    {
      "cell_type": "code",
      "execution_count": null,
      "id": "c7e1e521-5f14-4b81-9a55-2a60326cbb0d",
      "metadata": {
        "tags": [],
        "id": "c7e1e521-5f14-4b81-9a55-2a60326cbb0d"
      },
      "outputs": [],
      "source": [
        "d = True\n",
        "print('d =', d)\n",
        "\n",
        "e = False\n",
        "print('e =', e)"
      ]
    },
    {
      "cell_type": "markdown",
      "id": "ca79d911-4fcb-463c-8f8e-2de6adbb1b3b",
      "metadata": {
        "id": "ca79d911-4fcb-463c-8f8e-2de6adbb1b3b"
      },
      "source": [
        "### Type checking\n",
        "\n",
        "You can check the type of a variable using the `type()` function."
      ]
    },
    {
      "cell_type": "code",
      "execution_count": null,
      "id": "73ab0bcd-4881-41b6-a871-c5190a2724b6",
      "metadata": {
        "tags": [],
        "id": "73ab0bcd-4881-41b6-a871-c5190a2724b6"
      },
      "outputs": [],
      "source": [
        "print('The type of variable a is', type(a))\n",
        "\n",
        "print('The type of variable c is', type(c))\n",
        "\n",
        "print('The type of variable my_name is', type(my_name))\n",
        "\n",
        "print('The type of variable d is', type(d))"
      ]
    },
    {
      "cell_type": "markdown",
      "id": "98642095-a3ed-40c2-a454-69b43850bdcd",
      "metadata": {
        "id": "98642095-a3ed-40c2-a454-69b43850bdcd"
      },
      "source": [
        "In Python, the type of a variable can change when you reassign a value of a different data type to it. See the following code for example."
      ]
    },
    {
      "cell_type": "code",
      "execution_count": null,
      "id": "0534ff19-c148-44bf-8966-b983b1fa6b58",
      "metadata": {
        "tags": [],
        "id": "0534ff19-c148-44bf-8966-b983b1fa6b58"
      },
      "outputs": [],
      "source": [
        "# a is initially an integer\n",
        "print('The type of variable a is', type(a))\n",
        "\n",
        "a = 'Hello'  # a is now reassigned to a string\n",
        "print('The type of variable a is', type(a))\n",
        "\n",
        "a = 3.14  # a is now reassigned to a float\n",
        "print('The type of variable a is', type(a))"
      ]
    },
    {
      "cell_type": "markdown",
      "id": "da919361-0004-4c27-9421-0c48de99058e",
      "metadata": {
        "id": "da919361-0004-4c27-9421-0c48de99058e"
      },
      "source": [
        "### Using f-strings\n",
        "\n",
        "You have already seen how to print messages that combines text (i.e., strings) and variables. See the following code for example:"
      ]
    },
    {
      "cell_type": "code",
      "execution_count": null,
      "id": "804c241f-1ab3-4b3a-9b2b-7ca386ed62b8",
      "metadata": {
        "tags": [],
        "id": "804c241f-1ab3-4b3a-9b2b-7ca386ed62b8"
      },
      "outputs": [],
      "source": [
        "name = \"Eleven\"\n",
        "age = 12\n",
        "\n",
        "print('My name is', name, 'and I am', age, 'years old.')"
      ]
    },
    {
      "cell_type": "markdown",
      "id": "634ffa75-7e75-4c38-a977-5e274d462e1c",
      "metadata": {
        "id": "634ffa75-7e75-4c38-a977-5e274d462e1c"
      },
      "source": [
        "While this method works well, Python offers an even more convenient way to embed variable values directly into strings using **f-strings** (*formatted string literals*). An f-string is a string prefixed with `f` or `F` and contains variables inside curly braces `{}`. When used as the argument of the `print()` function, the variable names enclosed within curly braces will be replaced by their respective values. (Technically, apart from variables, you can place any valid Python expression inside the braces, as we will learn later).\n",
        "\n",
        "Here's the same example above using f-strings:"
      ]
    },
    {
      "cell_type": "code",
      "execution_count": null,
      "id": "d2578fbd-233d-47de-b60a-dcfbf4d7f7db",
      "metadata": {
        "tags": [],
        "id": "d2578fbd-233d-47de-b60a-dcfbf4d7f7db"
      },
      "outputs": [],
      "source": [
        "name = \"Eleven\"\n",
        "age = 12\n",
        "\n",
        "print(f'My name is {name} and I am {age} years old.')"
      ]
    },
    {
      "cell_type": "markdown",
      "id": "25989873-2939-4b53-b706-d095a8d3e589",
      "metadata": {
        "id": "25989873-2939-4b53-b706-d095a8d3e589"
      },
      "source": [
        "One of the cool things you can do with f-strings is to provide *format specifiers*. Format specifiers allow you to control the way the values are presented. For example, you can specify the number of decimal places for a `float` or format a number as a percentage.\n",
        "\n",
        "Here's an example of using format specifiers with f-strings:"
      ]
    },
    {
      "cell_type": "code",
      "execution_count": null,
      "id": "0db51c41-c671-40c4-979b-50e2d299208f",
      "metadata": {
        "tags": [],
        "id": "0db51c41-c671-40c4-979b-50e2d299208f"
      },
      "outputs": [],
      "source": [
        "pi = 3.141592653589793\n",
        "print(f'The value of pi to three decimal places is {pi:.3f}')"
      ]
    },
    {
      "cell_type": "markdown",
      "id": "2c5936a9-d418-430f-b450-441b039079c6",
      "metadata": {
        "id": "2c5936a9-d418-430f-b450-441b039079c6"
      },
      "source": [
        "In this example, the format specifier `.3f` indicates that the value of the variable `pi` should be formatted as a floating-point number with three decimal places.\n",
        "\n",
        "You can read more about different types of format specifiers in the [Python documentation](https://docs.python.org/3/library/string.html#format-specification-mini-language)."
      ]
    },
    {
      "cell_type": "markdown",
      "id": "0e68c2c0-97c0-44cb-b919-bc6679b4d4d7",
      "metadata": {
        "tags": [],
        "id": "0e68c2c0-97c0-44cb-b919-bc6679b4d4d7"
      },
      "source": [
        "---\n",
        "\n",
        "## 3. Arithmetic Operations\n",
        "\n",
        "Python supports various arithmetic operations. Here are some common arithmetic operators:\n",
        "- `+`: Addition\n",
        "- `-`: Subtraction\n",
        "- `*`: Multiplication\n",
        "- `/`: Division\n",
        "- `**`: Exponentiation (power)\n",
        "- `//`: Integer division (floor division)\n",
        "- `%`: Modulus (remainder of the division)\n",
        "\n",
        "See the following example of adding two variables:"
      ]
    },
    {
      "cell_type": "code",
      "execution_count": null,
      "id": "1fd96eb8-178d-4c45-9921-c4768e0eaf72",
      "metadata": {
        "tags": [],
        "id": "1fd96eb8-178d-4c45-9921-c4768e0eaf72"
      },
      "outputs": [],
      "source": [
        "x = 5\n",
        "y = 3\n",
        "\n",
        "z = x + y\n",
        "\n",
        "print(z)"
      ]
    },
    {
      "cell_type": "markdown",
      "id": "9838ba09-f6be-4b55-b442-8362000b65f5",
      "metadata": {
        "id": "9838ba09-f6be-4b55-b442-8362000b65f5"
      },
      "source": [
        "In the example above, when executing the statement `z = x + y`, the values of `x` and `y` are first added together, and then the resulting number is stored in a new variable `z`.\n",
        "\n",
        "**Note on spacing in expressions:** In Python, spaces within expressions are ignored by the Python interpreter. For example, in the code above, note that there are spaces around the `=` operator and `+` operator in the expression `z = x + y`. These spaces are only included to improve human readability and do not affect the execution of the code. That is, `z=x+y`, `z = x + y`, and `z = x+y` all mean the same thing.\n",
        "\n",
        "Let's explore a few more arithmetic operations. In the following examples, we have placed mathematical expressions directly inside the curly braces `{}` in f-strings. These expressions are evaluated at runtime, and the resulting values are inserted into the string."
      ]
    },
    {
      "cell_type": "code",
      "execution_count": null,
      "id": "a9196ae7-d244-42e4-a2f7-4cce7891cbf1",
      "metadata": {
        "tags": [],
        "id": "a9196ae7-d244-42e4-a2f7-4cce7891cbf1"
      },
      "outputs": [],
      "source": [
        "print(f'x - y = {x-y}')\n",
        "\n",
        "print(f'x times y is {x*y}')\n",
        "\n",
        "print(f'100 divided by x is {100/x}')\n",
        "\n",
        "print(f'y to the power of 4 is {y**4}')\n",
        "\n",
        "print(f'When 7 is divided by 2, the whole-number part of the result is {7 // 2}')\n",
        "\n",
        "print(f'When 7 is divided by 2, the remainder is {7%2}')"
      ]
    },
    {
      "cell_type": "markdown",
      "id": "b082d817-4ce6-438f-97fa-56c85a2c0ade",
      "metadata": {
        "tags": [],
        "id": "b082d817-4ce6-438f-97fa-56c85a2c0ade"
      },
      "source": [
        "Note that Python automatically handles operations between different numeric types (e.g., int and float), converting the result to a float if necessary:"
      ]
    },
    {
      "cell_type": "code",
      "execution_count": null,
      "id": "bc610a8e-4e71-4153-b474-1c6098bbc43b",
      "metadata": {
        "tags": [],
        "id": "bc610a8e-4e71-4153-b474-1c6098bbc43b"
      },
      "outputs": [],
      "source": [
        "p = 10   # An integer variable\n",
        "q = 3.5  # A float variable\n",
        "\n",
        "print(p+q)  # Prints 13.5\n",
        "print(p*q)  # Prints 35.0"
      ]
    },
    {
      "cell_type": "markdown",
      "id": "5b89af8c-cc6a-46a1-bfbe-bf006057fb2b",
      "metadata": {
        "id": "5b89af8c-cc6a-46a1-bfbe-bf006057fb2b"
      },
      "source": [
        "### Operator precedence\n",
        "\n",
        "You can create more complex expressions that involve multiple operators and variables, not just simple operations between two numbers as you have seen so far. For example, for given values of $a$, $b$, and $c$, you can evaluate a complex expression such as $3a^2b - 2bc^3 + 9abc - 5$ in a single line of code. However, when working with expressions involving multiple operators, it is important to understand the order in which operators are evaluated in an expression. In Python, operators with *higher precedence* are evaluated before operators with *lower precedence*.\n",
        "\n",
        "See the following code for example:"
      ]
    },
    {
      "cell_type": "code",
      "execution_count": null,
      "id": "2c4fd24e-fa4c-4423-9e0c-70d132efe945",
      "metadata": {
        "tags": [],
        "id": "2c4fd24e-fa4c-4423-9e0c-70d132efe945"
      },
      "outputs": [],
      "source": [
        "x = 5\n",
        "y = 3\n",
        "\n",
        "result = x + y * 2\n",
        "\n",
        "print(result)"
      ]
    },
    {
      "cell_type": "markdown",
      "id": "707a9f32-2063-4263-a1d3-e2df82197974",
      "metadata": {
        "id": "707a9f32-2063-4263-a1d3-e2df82197974"
      },
      "source": [
        "In this example, the expression `x + y * 2` evaluates to 11. This is because the multiplication `y * 2` is performed first, yielding 6, which is then added to the value of `x` (which is 5). The reason is the multiplication operator `*` has higher precedence than the addition operator `+` and therefore is performed first.\n",
        "\n",
        "If you require the addition to be peformed first, you can enclose `x + y` within parenthesis as follows:"
      ]
    },
    {
      "cell_type": "code",
      "execution_count": null,
      "id": "409c3825-ae8a-4db4-9c6a-6a7ff41aa072",
      "metadata": {
        "tags": [],
        "id": "409c3825-ae8a-4db4-9c6a-6a7ff41aa072"
      },
      "outputs": [],
      "source": [
        "x = 5\n",
        "y = 3\n",
        "\n",
        "result = (x + y) * 2\n",
        "\n",
        "print(result)"
      ]
    },
    {
      "cell_type": "markdown",
      "id": "ab394876-8b04-466d-a10d-166cc992dda8",
      "metadata": {
        "id": "ab394876-8b04-466d-a10d-166cc992dda8"
      },
      "source": [
        "Now, `x + y` is performed first, yielding 8, which is then multiplied by 2 to get 16.\n",
        "\n",
        "Here are the basic arithmetic operators in order of precedence from highest to lowest:\n",
        "\n",
        "1. `**` (exponentiation)\n",
        "2. `*`, `/`, `//`, `%` (multiplication, division, integer division, modulus)\n",
        "3. `+`, `-` (addition, subtraction)\n",
        "\n",
        "Multiplication, division, and modulus are performed before addition and subtraction in an expression because they have higher precedence. Exponentiation is always performed first in an expression as it has the highest precedence among all operators. As shown in the previous example, you can change the order of evaluation in an expression using parentheses `()`.\n",
        "\n",
        "### Variable reassignments based on their previous values\n",
        "\n",
        "One of the most common operations in coding is updating the value of a variable based on its previous value. For example, see the following code:"
      ]
    },
    {
      "cell_type": "code",
      "execution_count": null,
      "id": "06f33814-6eff-4f2b-b970-a889c1258ba2",
      "metadata": {
        "tags": [],
        "id": "06f33814-6eff-4f2b-b970-a889c1258ba2"
      },
      "outputs": [],
      "source": [
        "a = 5\n",
        "\n",
        "a = a + 1\n",
        "\n",
        "print(a)"
      ]
    },
    {
      "cell_type": "markdown",
      "id": "1af88480-8d54-42a4-9613-fcb16d4b3d75",
      "metadata": {
        "id": "1af88480-8d54-42a4-9613-fcb16d4b3d75"
      },
      "source": [
        "When executing the statement `a = a + 1`, the expression `a + 1` is evaluated first, and the result of this operation (which is 6) is assigned to `a`. Therefore, by the end of this statement, the value of variable `a` will be 6.\n",
        "\n",
        "Python provides a shorthand notation for such updates, which makes the code more concise and readable. Instead of writing `a = a + 1`, you can use the `+=` operator as shown below:"
      ]
    },
    {
      "cell_type": "code",
      "execution_count": null,
      "id": "6ce3121d-0c94-4cd3-adba-f15a7cc246d3",
      "metadata": {
        "id": "6ce3121d-0c94-4cd3-adba-f15a7cc246d3"
      },
      "outputs": [],
      "source": [
        "a = 5\n",
        "\n",
        "a += 1\n",
        "\n",
        "print(a)"
      ]
    },
    {
      "cell_type": "markdown",
      "id": "4d28611f-917f-4bdf-8806-570cd6eef0a5",
      "metadata": {
        "id": "4d28611f-917f-4bdf-8806-570cd6eef0a5"
      },
      "source": [
        "Here, the statement `a += 1` is functionally equivalent to `a = a + 1`.\n",
        "\n",
        "This shorthand notation can be used with other mathematical operators as well (see the examples below)."
      ]
    },
    {
      "cell_type": "code",
      "execution_count": null,
      "id": "2c95e7ed-e8d5-4de8-a393-c1beb07b8b43",
      "metadata": {
        "tags": [],
        "id": "2c95e7ed-e8d5-4de8-a393-c1beb07b8b43"
      },
      "outputs": [],
      "source": [
        "a = 10\n",
        "\n",
        "a -= 2  # Equivalent to a = a - 2\n",
        "print(a)\n",
        "\n",
        "a *= 3  # Equivalent to a = a * 3\n",
        "print(a)\n",
        "\n",
        "a /= 2  # Equivalent to a = a / 2\n",
        "print(a)\n",
        "\n",
        "a **= 2  # Equivalent to a = a ** 2\n",
        "print(a)"
      ]
    },
    {
      "cell_type": "markdown",
      "id": "8fb08840-70f9-4a24-8af9-b9017f691204",
      "metadata": {
        "tags": [],
        "id": "8fb08840-70f9-4a24-8af9-b9017f691204"
      },
      "source": [
        "---\n",
        "\n",
        "## 4. Lists and List Operations\n",
        "\n",
        "Lists allow you to store a collection of items in a single variable. Lists are ordered, changeable, and allow duplicate values.\n",
        "\n",
        "You can create a list by placing a comma-separated sequence of items inside square brackets `[]`."
      ]
    },
    {
      "cell_type": "code",
      "execution_count": null,
      "id": "da410619-a8f8-4ba2-8c9d-cf722ce7bfdf",
      "metadata": {
        "tags": [],
        "id": "da410619-a8f8-4ba2-8c9d-cf722ce7bfdf"
      },
      "outputs": [],
      "source": [
        "my_list = [3, 4, 1, 8, 5]\n",
        "\n",
        "print(my_list)"
      ]
    },
    {
      "cell_type": "markdown",
      "id": "013c9ed4-1d15-41a9-afcf-4d8f1603416b",
      "metadata": {
        "id": "013c9ed4-1d15-41a9-afcf-4d8f1603416b"
      },
      "source": [
        "Lists can contain items of different data types."
      ]
    },
    {
      "cell_type": "code",
      "execution_count": null,
      "id": "380a44e9-b789-4d11-b1e3-fdbd65ec3ee5",
      "metadata": {
        "tags": [],
        "id": "380a44e9-b789-4d11-b1e3-fdbd65ec3ee5"
      },
      "outputs": [],
      "source": [
        "mixed_list = [1, \"Hello\", 3.14, True]\n",
        "\n",
        "print(mixed_list)"
      ]
    },
    {
      "cell_type": "markdown",
      "id": "bd006ac1-03a9-4748-bcdb-2e61d2d988c5",
      "metadata": {
        "id": "bd006ac1-03a9-4748-bcdb-2e61d2d988c5"
      },
      "source": [
        "You can create an empty list (i.e., a list with zero items) by using empty brackets `[]`."
      ]
    },
    {
      "cell_type": "code",
      "execution_count": null,
      "id": "f3b26374-22bf-4d2d-b9af-1ea06b1a2e0b",
      "metadata": {
        "tags": [],
        "id": "f3b26374-22bf-4d2d-b9af-1ea06b1a2e0b"
      },
      "outputs": [],
      "source": [
        "empty_list = []\n",
        "\n",
        "print(empty_list)"
      ]
    },
    {
      "cell_type": "markdown",
      "id": "48c11553-056b-4822-989d-de610cefe3c5",
      "metadata": {
        "id": "48c11553-056b-4822-989d-de610cefe3c5"
      },
      "source": [
        "You can find the **length** of a list, in other words, the number of items in the list, using the `len()` function:"
      ]
    },
    {
      "cell_type": "code",
      "execution_count": null,
      "id": "c5417ddd-8bcc-405b-80b3-47999eae2025",
      "metadata": {
        "tags": [],
        "id": "c5417ddd-8bcc-405b-80b3-47999eae2025"
      },
      "outputs": [],
      "source": [
        "print('Length of my_list is', len(my_list))\n",
        "\n",
        "print('Length of empty_list is', len(empty_list))"
      ]
    },
    {
      "cell_type": "markdown",
      "id": "efcb45b4-0cb1-45df-a939-0f3da5105746",
      "metadata": {
        "id": "efcb45b4-0cb1-45df-a939-0f3da5105746"
      },
      "source": [
        "**NOTE**: In Python, both \"items\" and \"elements\" are used when referring to the individual values stored in a list. However, \"elements\" might be encountered more frequently in documentation and formal discussions. From now on, we will exclusively use the word \"elements\" when referring to values stored in a list.\n",
        "\n",
        "### Accessing list elements\n",
        "\n",
        "You can access an individual element in a list by specifying the corresponding **index** within square brackets. In Python, indexing starts at `0` and goes up to `len(list_name) - 1`. For example, in the case of the list `my_list` with five elements, `my_list[0]` gives the first element, `my_list[1]` gives the second element, and so on, and `my_list[4]` gives the last element."
      ]
    },
    {
      "cell_type": "code",
      "execution_count": null,
      "id": "7f8e66ca-9cf2-470c-91e3-53f0c998fdb6",
      "metadata": {
        "tags": [],
        "id": "7f8e66ca-9cf2-470c-91e3-53f0c998fdb6"
      },
      "outputs": [],
      "source": [
        "print(my_list[0])  # Prints the first element\n",
        "\n",
        "print(my_list[1])  # Prints the second element\n",
        "\n",
        "print(my_list[len(my_list) - 1])  # Prints the last element"
      ]
    },
    {
      "cell_type": "markdown",
      "id": "7fcafc7a-9f24-47c9-b299-00df1a47b749",
      "metadata": {
        "id": "7fcafc7a-9f24-47c9-b299-00df1a47b749"
      },
      "source": [
        "Lists allow negative indexing for backward navigation through the list starting from the last element. The index `-1` refers to the last element, `-2` refers to the second last element, and so on."
      ]
    },
    {
      "cell_type": "code",
      "execution_count": null,
      "id": "015f8b50-cde6-497e-96ce-760e79390b2b",
      "metadata": {
        "tags": [],
        "id": "015f8b50-cde6-497e-96ce-760e79390b2b"
      },
      "outputs": [],
      "source": [
        "print(my_list[-1])  # Prints the last element\n",
        "\n",
        "print(my_list[-2])  # Prints the second last element"
      ]
    },
    {
      "cell_type": "markdown",
      "id": "30984d82-b084-4e7c-b4dd-ebd416e39056",
      "metadata": {
        "id": "30984d82-b084-4e7c-b4dd-ebd416e39056"
      },
      "source": [
        "### Modifying list elements\n",
        "\n",
        "Lists are mutable, meaning you can change their content. You can modify a list element by accessing it through its index."
      ]
    },
    {
      "cell_type": "code",
      "execution_count": null,
      "id": "1cc452e2-a4ed-4460-861c-8f8ff4495d7c",
      "metadata": {
        "tags": [],
        "id": "1cc452e2-a4ed-4460-861c-8f8ff4495d7c"
      },
      "outputs": [],
      "source": [
        "my_list[2] = -5  # Change the 3rd element to -5\n",
        "\n",
        "print(my_list)"
      ]
    },
    {
      "cell_type": "markdown",
      "id": "cfecf5f5-50d6-4eab-add1-940136eb5cfc",
      "metadata": {
        "id": "cfecf5f5-50d6-4eab-add1-940136eb5cfc"
      },
      "source": [
        "### Adding elements to a list\n",
        "\n",
        "You can add new elements to the end of a list using the `append()` method."
      ]
    },
    {
      "cell_type": "code",
      "execution_count": null,
      "id": "6c9aa89d-98cb-49dc-bb5d-58e54145561d",
      "metadata": {
        "tags": [],
        "id": "6c9aa89d-98cb-49dc-bb5d-58e54145561d"
      },
      "outputs": [],
      "source": [
        "my_list.append(10)  # Add a new element with the value 10 to the end of the list.\n",
        "\n",
        "print(my_list)"
      ]
    },
    {
      "cell_type": "markdown",
      "id": "3fb5d487-31e2-4959-912e-b8a1078fb391",
      "metadata": {
        "id": "3fb5d487-31e2-4959-912e-b8a1078fb391"
      },
      "source": [
        "In the following code, we first create an empty list, and then add two elements using the `append()` method."
      ]
    },
    {
      "cell_type": "code",
      "execution_count": null,
      "id": "9f99f052-4d43-49d3-b205-0779a2c16bcd",
      "metadata": {
        "tags": [],
        "id": "9f99f052-4d43-49d3-b205-0779a2c16bcd"
      },
      "outputs": [],
      "source": [
        "new_list = []  # Create an empty list\n",
        "\n",
        "new_list.append(5)\n",
        "new_list.append(-10.5)\n",
        "\n",
        "print(new_list)"
      ]
    },
    {
      "cell_type": "markdown",
      "id": "5efec684-f0c8-4d6f-88af-77c78f70a3b7",
      "metadata": {
        "id": "5efec684-f0c8-4d6f-88af-77c78f70a3b7"
      },
      "source": [
        "You can also insert an element at a specific index position using the `insert()` method."
      ]
    },
    {
      "cell_type": "code",
      "execution_count": null,
      "id": "985da5d3-2509-41cc-a0f9-a8f756c27d62",
      "metadata": {
        "tags": [],
        "id": "985da5d3-2509-41cc-a0f9-a8f756c27d62"
      },
      "outputs": [],
      "source": [
        "new_list.insert(1, -20)  # Insert a new element with the value -20 at index position 1 (i.e., as the 2nd element).\n",
        "\n",
        "print(new_list)"
      ]
    },
    {
      "cell_type": "markdown",
      "id": "89cfe9a3-4f37-40cb-88c5-780f302ca999",
      "metadata": {
        "id": "89cfe9a3-4f37-40cb-88c5-780f302ca999"
      },
      "source": [
        "### List slicing\n",
        "\n",
        "You can retrieve a subset of elements from a list using slicing. The basic syntax for slicing is `list[start:end]`, where `start` is the index of the first element to include in the slice, and `end` is the index just after the last element to include (the element at the `end` index is not included in the slice). Let's go through a few examples:"
      ]
    },
    {
      "cell_type": "code",
      "execution_count": null,
      "id": "bbb4adb0-b837-429b-ac1f-b5aad3e6cfe1",
      "metadata": {
        "tags": [],
        "id": "bbb4adb0-b837-429b-ac1f-b5aad3e6cfe1"
      },
      "outputs": [],
      "source": [
        "# First, let's create a new list.\n",
        "\n",
        "my_list = [3, 4, -5, 8, -20, -7, 5, 10]"
      ]
    },
    {
      "cell_type": "code",
      "execution_count": null,
      "id": "28070d29-4b6d-4963-840a-c48d35df2127",
      "metadata": {
        "tags": [],
        "id": "28070d29-4b6d-4963-840a-c48d35df2127"
      },
      "outputs": [],
      "source": [
        "# Retrieve the elements from index 1 to 2. Note that the element at index 3 will not be included.\n",
        "\n",
        "my_list[1:3]"
      ]
    },
    {
      "cell_type": "code",
      "execution_count": null,
      "id": "2598a4ca-1eb5-4a54-a77e-0487cd7291e5",
      "metadata": {
        "tags": [],
        "id": "2598a4ca-1eb5-4a54-a77e-0487cd7291e5"
      },
      "outputs": [],
      "source": [
        "# Retrieve the elements from index 0 to 3. Note that the element at index 4 will not be included.\n",
        "\n",
        "my_list[0:4]"
      ]
    },
    {
      "cell_type": "markdown",
      "id": "00f8736c-b7c3-4c4d-bbe9-30c8024687b0",
      "metadata": {
        "id": "00f8736c-b7c3-4c4d-bbe9-30c8024687b0"
      },
      "source": [
        "If `start` is not specified, the starting index is assumed to be zero. If `end` is not specified, it is assumed to be the length of the list."
      ]
    },
    {
      "cell_type": "code",
      "execution_count": null,
      "id": "8d4f698c-484f-4e37-9054-01901234def0",
      "metadata": {
        "tags": [],
        "id": "8d4f698c-484f-4e37-9054-01901234def0"
      },
      "outputs": [],
      "source": [
        "# Retrieve the first 6 elements (i.e., the elements at indices from 0 through 5).\n",
        "\n",
        "my_list[:6]"
      ]
    },
    {
      "cell_type": "code",
      "execution_count": null,
      "id": "37c45c46-eda9-4fe7-8053-f96967235dc3",
      "metadata": {
        "tags": [],
        "id": "37c45c46-eda9-4fe7-8053-f96967235dc3"
      },
      "outputs": [],
      "source": [
        "# Retrieve the elements from index 2 to the end of the list.\n",
        "\n",
        "my_list[2:]"
      ]
    },
    {
      "cell_type": "code",
      "execution_count": null,
      "id": "b186b715-0910-49b0-b4fa-63f7a0b5cfde",
      "metadata": {
        "tags": [],
        "id": "b186b715-0910-49b0-b4fa-63f7a0b5cfde"
      },
      "outputs": [],
      "source": [
        "# Retrieve all elements. This is the same as typing 'my_list'.\n",
        "\n",
        "my_list[:]"
      ]
    },
    {
      "cell_type": "markdown",
      "id": "cea17eb3-0d58-4dae-92b0-ca5003d8f21a",
      "metadata": {
        "id": "cea17eb3-0d58-4dae-92b0-ca5003d8f21a"
      },
      "source": [
        "You can also use negative indices to slice a list from the end. Remember that index `-1` refers to the last element, `-2` refers to the second last element, and so on."
      ]
    },
    {
      "cell_type": "code",
      "execution_count": null,
      "id": "307ca341-7a25-497b-a0e4-1c1fc2d1e7a5",
      "metadata": {
        "tags": [],
        "id": "307ca341-7a25-497b-a0e4-1c1fc2d1e7a5"
      },
      "outputs": [],
      "source": [
        "print(my_list[-3:])  # Print the last three elements.\n",
        "\n",
        "print(my_list[:-2])  # Print all elements except the last two.\n",
        "\n",
        "print(my_list[-4:-2])  # Print elements from the 4th last to the 3rd last (2nd last element is not included)."
      ]
    },
    {
      "cell_type": "markdown",
      "id": "f82c6700-cf52-4399-a8c2-76fddb6bb583",
      "metadata": {
        "id": "f82c6700-cf52-4399-a8c2-76fddb6bb583"
      },
      "source": [
        "You can include a third parameter called `step` in the slicing syntax, i.e., `list[start:end:step]`. The `step` parameter specifies the interval between elements in the slice. This allows you to skip elements in the list at regular intervals."
      ]
    },
    {
      "cell_type": "code",
      "execution_count": null,
      "id": "55fe67f6-8019-462b-a9c5-c0f335974389",
      "metadata": {
        "tags": [],
        "id": "55fe67f6-8019-462b-a9c5-c0f335974389"
      },
      "outputs": [],
      "source": [
        "# Retrieve every second element in the entire list, starting from the 1st element.\n",
        "# Note that \"start\" and \"end\" indices are not specified,\n",
        "# so \"start\" and \"end\" are assumed to be 0 and len(my_list), respectively.\n",
        "\n",
        "my_list[::2]"
      ]
    },
    {
      "cell_type": "code",
      "execution_count": null,
      "id": "10587f62-c92c-4516-aa09-7ad3a837cd9e",
      "metadata": {
        "tags": [],
        "id": "10587f62-c92c-4516-aa09-7ad3a837cd9e"
      },
      "outputs": [],
      "source": [
        "# Retrieve every second element from index 1 to 3.\n",
        "\n",
        "my_list[1:4:2]"
      ]
    },
    {
      "cell_type": "markdown",
      "id": "8f86d9f5-0d23-463c-aeb6-8f8d79f16fa2",
      "metadata": {
        "id": "8f86d9f5-0d23-463c-aeb6-8f8d79f16fa2"
      },
      "source": [
        "### Tuples\n",
        "\n",
        "In Python, **tuples** are similar to lists, but with one key difference: tuples are immutable, meaning once they are created, their elements cannot be changed. Tuples are useful for storing a collection of items that should not be modified.\n",
        "\n",
        "A tuple is created by placing a sequence of values separated by commas within parentheses `()`. See the example below."
      ]
    },
    {
      "cell_type": "code",
      "execution_count": null,
      "id": "25f2a9b1-bf2e-4998-98ef-02422794cc6f",
      "metadata": {
        "tags": [],
        "id": "25f2a9b1-bf2e-4998-98ef-02422794cc6f"
      },
      "outputs": [],
      "source": [
        "my_tuple = (5, -8, 7, 10, 3)\n",
        "\n",
        "print(my_tuple)"
      ]
    },
    {
      "cell_type": "markdown",
      "id": "c46aa187-fd7f-43ae-a9fd-9ddf43e1a987",
      "metadata": {
        "id": "c46aa187-fd7f-43ae-a9fd-9ddf43e1a987"
      },
      "source": [
        "All the indexing and slicing operations you learned for lists also apply to tuples. For example:"
      ]
    },
    {
      "cell_type": "code",
      "execution_count": null,
      "id": "a1bd23f4-8748-4fee-80bc-8e856daa5fca",
      "metadata": {
        "tags": [],
        "id": "a1bd23f4-8748-4fee-80bc-8e856daa5fca"
      },
      "outputs": [],
      "source": [
        "print(my_tuple[0])    # Outputs 5\n",
        "print(my_tuple[1:4])  # Outputs (-8, 7, 10)"
      ]
    },
    {
      "cell_type": "markdown",
      "id": "3d07f994-b295-4057-b008-fa46825da5ff",
      "metadata": {
        "id": "3d07f994-b295-4057-b008-fa46825da5ff"
      },
      "source": [
        "However, unlike lists, you cannot modify the elements of a tuple after it is created."
      ]
    },
    {
      "cell_type": "code",
      "execution_count": null,
      "id": "e688c05e-924d-46e3-b4ad-20d0556ce52d",
      "metadata": {
        "tags": [],
        "id": "e688c05e-924d-46e3-b4ad-20d0556ce52d"
      },
      "outputs": [],
      "source": [
        "# The following line of code will raise an error if you uncomment it.\n",
        "# my_tuple[1] = 4"
      ]
    },
    {
      "cell_type": "markdown",
      "id": "9d1b969f-166b-4c7a-8a7a-29a73ce945cf",
      "metadata": {
        "id": "9d1b969f-166b-4c7a-8a7a-29a73ce945cf"
      },
      "source": [
        "Apart from lists and tuples, there are other similar data structures in Python, such as **dictionaries** and **sets**, each with its own unique features and uses. While we will not cover them in this tutorial, you can learn more about them in the Python documentation."
      ]
    },
    {
      "cell_type": "markdown",
      "id": "17fe2bc6-54b2-43b5-99a4-c75a9a200a25",
      "metadata": {
        "id": "17fe2bc6-54b2-43b5-99a4-c75a9a200a25"
      },
      "source": [
        "---\n",
        "\n",
        "## 5. Libraries and Importing Functions\n",
        "\n",
        "In Python, **libraries** are collections of pre-written code that you can use to perform common tasks. Libraries help you save time and effort by providing functions and modules that you can easily incorporate into your programs. For example, the built-in `math` library provides many commonly used mathematical functions and constants.\n",
        "\n",
        "To use a library in your program, you need to import it first. Python provides a simple `import` statement to accomplish this. The following line of code imports the `math` library:"
      ]
    },
    {
      "cell_type": "code",
      "execution_count": null,
      "id": "1bcad3e6-1f3a-4e09-85d5-f03bada25253",
      "metadata": {
        "tags": [],
        "id": "1bcad3e6-1f3a-4e09-85d5-f03bada25253"
      },
      "outputs": [],
      "source": [
        "import math"
      ]
    },
    {
      "cell_type": "markdown",
      "id": "ca8ab1d9-8b5e-42fe-bc21-ea356cf6759e",
      "metadata": {
        "id": "ca8ab1d9-8b5e-42fe-bc21-ea356cf6759e"
      },
      "source": [
        "Once the library is imported, you can access the functions and constants in the library by using the `math.` prefix. See the following examples:"
      ]
    },
    {
      "cell_type": "code",
      "execution_count": null,
      "id": "8ac516b0-3520-4ebb-b6d9-d7946c090668",
      "metadata": {
        "tags": [],
        "id": "8ac516b0-3520-4ebb-b6d9-d7946c090668"
      },
      "outputs": [],
      "source": [
        "# math.sqrt(x) - calculates the square root of x\n",
        "print('The square root of 137 is', math.sqrt(137))\n",
        "\n",
        "# math.pow(x, y) - calculates x raised to the power of y\n",
        "print('5.5 raised to the power of 10.6 is', math.pow(5.5, 10.6))\n",
        "\n",
        "# math.log(x, base) - calculates the logarithm of x to the given `base`.\n",
        "# Calculates the natural logarithm if no `base` is specified.\n",
        "print('The natural logarithm of 150 is', math.log(150))\n",
        "\n",
        "# math.pi - the constant pi\n",
        "print('The value of pi is', math.pi)\n",
        "\n",
        "# math.sin(x) - calculates the sine of x given in radians\n",
        "print('sin(pi/6) =', math.sin(math.pi/6))"
      ]
    },
    {
      "cell_type": "markdown",
      "id": "453c63eb-9f1a-4eb5-afcc-9030dda4bddf",
      "metadata": {
        "tags": [],
        "id": "453c63eb-9f1a-4eb5-afcc-9030dda4bddf"
      },
      "source": [
        "You can also directly import specific functions and constants from a library, which allows you to use them without the `math.` prefix. For example:"
      ]
    },
    {
      "cell_type": "code",
      "execution_count": null,
      "id": "e403be1b-3c22-4c5f-8011-0669da4b1e03",
      "metadata": {
        "tags": [],
        "id": "e403be1b-3c22-4c5f-8011-0669da4b1e03"
      },
      "outputs": [],
      "source": [
        "from math import sqrt, pi\n",
        "\n",
        "print('The square root of 137 is', sqrt(137))\n",
        "print('The value of pi is', pi)"
      ]
    }
  ],
  "metadata": {
    "kernelspec": {
      "display_name": "Python 3",
      "language": "python",
      "name": "python3"
    },
    "language_info": {
      "codemirror_mode": {
        "name": "ipython",
        "version": 3
      },
      "file_extension": ".py",
      "mimetype": "text/x-python",
      "name": "python",
      "nbconvert_exporter": "python",
      "pygments_lexer": "ipython3",
      "version": "3.10.11"
    },
    "colab": {
      "provenance": [],
      "include_colab_link": true
    }
  },
  "nbformat": 4,
  "nbformat_minor": 5
}
